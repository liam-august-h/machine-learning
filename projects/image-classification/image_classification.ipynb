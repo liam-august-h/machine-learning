{
 "cells": [
  {
   "cell_type": "markdown",
   "metadata": {
    "collapsed": true
   },
   "source": [
    "# Image Classification\n",
    "In this project, you'll classify images from the [CIFAR-10 dataset](https://www.cs.toronto.edu/~kriz/cifar.html).  The dataset consists of airplanes, dogs, cats, and other objects. You'll preprocess the images, then train a convolutional neural network on all the samples. The images need to be normalized and the labels need to be one-hot encoded.  You'll get to apply what you learned and build a convolutional, max pooling, dropout, and fully connected layers.  At the end, you'll get to see your neural network's predictions on the sample images.\n",
    "## Get the Data\n",
    "Run the following cell to download the [CIFAR-10 dataset for python](https://www.cs.toronto.edu/~kriz/cifar-10-python.tar.gz)."
   ]
  },
  {
   "cell_type": "code",
   "execution_count": 1,
   "metadata": {},
   "outputs": [
    {
     "name": "stdout",
     "output_type": "stream",
     "text": [
      "All files found!\n"
     ]
    }
   ],
   "source": [
    "\"\"\"\n",
    "DON'T MODIFY ANYTHING IN THIS CELL THAT IS BELOW THIS LINE\n",
    "\"\"\"\n",
    "from urllib.request import urlretrieve\n",
    "from os.path import isfile, isdir\n",
    "from tqdm import tqdm\n",
    "import problem_unittests as tests\n",
    "import tarfile\n",
    "\n",
    "cifar10_dataset_folder_path = 'cifar-10-batches-py'\n",
    "\n",
    "class DLProgress(tqdm):\n",
    "    last_block = 0\n",
    "\n",
    "    def hook(self, block_num=1, block_size=1, total_size=None):\n",
    "        self.total = total_size\n",
    "        self.update((block_num - self.last_block) * block_size)\n",
    "        self.last_block = block_num\n",
    "\n",
    "if not isfile('cifar-10-python.tar.gz'):\n",
    "    with DLProgress(unit='B', unit_scale=True, miniters=1, desc='CIFAR-10 Dataset') as pbar:\n",
    "        urlretrieve(\n",
    "            'https://www.cs.toronto.edu/~kriz/cifar-10-python.tar.gz',\n",
    "            'cifar-10-python.tar.gz',\n",
    "            pbar.hook)\n",
    "\n",
    "if not isdir(cifar10_dataset_folder_path):\n",
    "    with tarfile.open('cifar-10-python.tar.gz') as tar:\n",
    "        tar.extractall()\n",
    "        tar.close()\n",
    "\n",
    "\n",
    "tests.test_folder_path(cifar10_dataset_folder_path)"
   ]
  },
  {
   "cell_type": "markdown",
   "metadata": {},
   "source": [
    "## Explore the Data\n",
    "The dataset is broken into batches to prevent your machine from running out of memory.  The CIFAR-10 dataset consists of 5 batches, named `data_batch_1`, `data_batch_2`, etc.. Each batch contains the labels and images that are one of the following:\n",
    "* airplane\n",
    "* automobile\n",
    "* bird\n",
    "* cat\n",
    "* deer\n",
    "* dog\n",
    "* frog\n",
    "* horse\n",
    "* ship\n",
    "* truck\n",
    "\n",
    "Understanding a dataset is part of making predictions on the data.  Play around with the code cell below by changing the `batch_id` and `sample_id`. The `batch_id` is the id for a batch (1-5). The `sample_id` is the id for a image and label pair in the batch.\n",
    "\n",
    "Ask yourself \"What are all possible labels?\", \"What is the range of values for the image data?\", \"Are the labels in order or random?\".  Answers to questions like these will help you preprocess the data and end up with better predictions."
   ]
  },
  {
   "cell_type": "code",
   "execution_count": 2,
   "metadata": {},
   "outputs": [
    {
     "name": "stdout",
     "output_type": "stream",
     "text": [
      "\n",
      "Stats of batch 1:\n",
      "Samples: 10000\n",
      "Label Counts: {0: 1005, 1: 974, 2: 1032, 3: 1016, 4: 999, 5: 937, 6: 1030, 7: 1001, 8: 1025, 9: 981}\n",
      "First 20 Labels: [6, 9, 9, 4, 1, 1, 2, 7, 8, 3, 4, 7, 7, 2, 9, 9, 9, 3, 2, 6]\n",
      "\n",
      "Example of Image 5:\n",
      "Image - Min Value: 0 Max Value: 252\n",
      "Image - Shape: (32, 32, 3)\n",
      "Label - Label Id: 1 Name: automobile\n"
     ]
    },
    {
     "data": {
      "image/png": "[encoded data removed]",
      "text/plain": [
       "<matplotlib.figure.Figure at 0x7f181ec07cc0>"
      ]
     },
     "metadata": {
      "image/png": {
       "height": 250,
       "width": 253
      }
     },
     "output_type": "display_data"
    }
   ],
   "source": [
    "%matplotlib inline\n",
    "%config InlineBackend.figure_format = 'retina'\n",
    "\n",
    "import helper\n",
    "import numpy as np\n",
    "\n",
    "# Explore the dataset\n",
    "batch_id = 1\n",
    "sample_id = 5\n",
    "helper.display_stats(cifar10_dataset_folder_path, batch_id, sample_id)"
   ]
  },
  {
   "cell_type": "markdown",
   "metadata": {},
   "source": [
    "## Implement Preprocess Functions\n",
    "### Normalize\n",
    "In the cell below, implement the `normalize` function to take in image data, `x`, and return it as a normalized Numpy array. The values should be in the range of 0 to 1, inclusive.  The return object should be the same shape as `x`."
   ]
  },
  {
   "cell_type": "code",
   "execution_count": 3,
   "metadata": {},
   "outputs": [
    {
     "name": "stdout",
     "output_type": "stream",
     "text": [
      "Tests Passed\n"
     ]
    }
   ],
   "source": [
    "def normalize(x):\n",
    "    \"\"\"\n",
    "    Normalize a list of sample image data in the range of 0 to 1\n",
    "    : x: List of image data.  The image shape is (32, 32, 3)\n",
    "    : return: Numpy array of normalize data\n",
    "    \"\"\"            \n",
    "    return np.array(x)/255\n",
    "\n",
    "\n",
    "\"\"\"\n",
    "DON'T MODIFY ANYTHING IN THIS CELL THAT IS BELOW THIS LINE\n",
    "\"\"\"\n",
    "tests.test_normalize(normalize)"
   ]
  },
  {
   "cell_type": "markdown",
   "metadata": {},
   "source": [
    "### One-hot encode\n",
    "Just like the previous code cell, you'll be implementing a function for preprocessing.  This time, you'll implement the `one_hot_encode` function. The input, `x`, are a list of labels.  Implement the function to return the list of labels as One-Hot encoded Numpy array.  The possible values for labels are 0 to 9. The one-hot encoding function should return the same encoding for each value between each call to `one_hot_encode`.  Make sure to save the map of encodings outside the function.\n",
    "\n",
    "**Hint:**\n",
    "\n",
    "Look into LabelBinarizer in the preprocessing module of sklearn."
   ]
  },
  {
   "cell_type": "code",
   "execution_count": 4,
   "metadata": {},
   "outputs": [
    {
     "name": "stdout",
     "output_type": "stream",
     "text": [
      "Tests Passed\n"
     ]
    }
   ],
   "source": [
    "def one_hot_encode(x):\n",
    "    \"\"\"\n",
    "    One hot encode a list of sample labels. Return a one-hot encoded vector for each label.\n",
    "    : x: List of sample Labels\n",
    "    : return: Numpy array of one-hot encoded labels\n",
    "    \"\"\" \n",
    "    one_hot = np.zeros([len(x), 10])\n",
    "    for i in range(len(x)):\n",
    "        one_hot[i][x[i]] = 1        \n",
    "    return one_hot\n",
    "\n",
    "\"\"\"\n",
    "DON'T MODIFY ANYTHING IN THIS CELL THAT IS BELOW THIS LINE\n",
    "\"\"\"\n",
    "tests.test_one_hot_encode(one_hot_encode)"
   ]
  },
  {
   "cell_type": "markdown",
   "metadata": {},
   "source": [
    "### Randomize Data\n",
    "As you saw from exploring the data above, the order of the samples are randomized.  It doesn't hurt to randomize it again, but you don't need to for this dataset."
   ]
  },
  {
   "cell_type": "markdown",
   "metadata": {},
   "source": [
    "## Preprocess all the data and save it\n",
    "Running the code cell below will preprocess all the CIFAR-10 data and save it to file. The code below also uses 10% of the training data for validation."
   ]
  },
  {
   "cell_type": "code",
   "execution_count": 5,
   "metadata": {},
   "outputs": [],
   "source": [
    "\"\"\"\n",
    "DON'T MODIFY ANYTHING IN THIS CELL\n",
    "\"\"\"\n",
    "# Preprocess Training, Validation, and Testing Data\n",
    "helper.preprocess_and_save_data(cifar10_dataset_folder_path, normalize, one_hot_encode)"
   ]
  },
  {
   "cell_type": "markdown",
   "metadata": {},
   "source": [
    "# Check Point\n",
    "This is your first checkpoint.  If you ever decide to come back to this notebook or have to restart the notebook, you can start from here.  The preprocessed data has been saved to disk."
   ]
  },
  {
   "cell_type": "code",
   "execution_count": 1,
   "metadata": {},
   "outputs": [],
   "source": [
    "\"\"\"\n",
    "DON'T MODIFY ANYTHING IN THIS CELL\n",
    "\"\"\"\n",
    "import pickle\n",
    "import problem_unittests as tests\n",
    "import helper\n",
    "\n",
    "# Load the Preprocessed Validation data\n",
    "valid_features, valid_labels = pickle.load(open('preprocess_validation.p', mode='rb'))"
   ]
  },
  {
   "cell_type": "markdown",
   "metadata": {},
   "source": [
    "## Build the network\n",
    "For the neural network, you'll build each layer into a function.  Most of the code you've seen has been outside of functions. To test your code more thoroughly, we require that you put each layer in a function.  This allows us to give you better feedback and test for simple mistakes using our unittests before you submit your project.\n",
    "\n",
    ">**Note:** If you're finding it hard to dedicate enough time for this course each week, we've provided a small shortcut to this part of the project. In the next couple of problems, you'll have the option to use classes from the [TensorFlow Layers](https://www.tensorflow.org/api_docs/python/tf/layers) or [TensorFlow Layers (contrib)](https://www.tensorflow.org/api_guides/python/contrib.layers) packages to build each layer, except the layers you build in the \"Convolutional and Max Pooling Layer\" section.  TF Layers is similar to Keras's and TFLearn's abstraction to layers, so it's easy to pickup.\n",
    "\n",
    ">However, if you would like to get the most out of this course, try to solve all the problems _without_ using anything from the TF Layers packages. You **can** still use classes from other packages that happen to have the same name as ones you find in TF Layers! For example, instead of using the TF Layers version of the `conv2d` class, [tf.layers.conv2d](https://www.tensorflow.org/api_docs/python/tf/layers/conv2d), you would want to use the TF Neural Network version of `conv2d`, [tf.nn.conv2d](https://www.tensorflow.org/api_docs/python/tf/nn/conv2d). \n",
    "\n",
    "Let's begin!\n",
    "\n",
    "### Input\n",
    "The neural network needs to read the image data, one-hot encoded labels, and dropout keep probability. Implement the following functions\n",
    "* Implement `neural_net_image_input`\n",
    " * Return a [TF Placeholder](https://www.tensorflow.org/api_docs/python/tf/placeholder)\n",
    " * Set the shape using `image_shape` with batch size set to `None`.\n",
    " * Name the TensorFlow placeholder \"x\" using the TensorFlow `name` parameter in the [TF Placeholder](https://www.tensorflow.org/api_docs/python/tf/placeholder).\n",
    "* Implement `neural_net_label_input`\n",
    " * Return a [TF Placeholder](https://www.tensorflow.org/api_docs/python/tf/placeholder)\n",
    " * Set the shape using `n_classes` with batch size set to `None`.\n",
    " * Name the TensorFlow placeholder \"y\" using the TensorFlow `name` parameter in the [TF Placeholder](https://www.tensorflow.org/api_docs/python/tf/placeholder).\n",
    "* Implement `neural_net_keep_prob_input`\n",
    " * Return a [TF Placeholder](https://www.tensorflow.org/api_docs/python/tf/placeholder) for dropout keep probability.\n",
    " * Name the TensorFlow placeholder \"keep_prob\" using the TensorFlow `name` parameter in the [TF Placeholder](https://www.tensorflow.org/api_docs/python/tf/placeholder).\n",
    "\n",
    "These names will be used at the end of the project to load your saved model.\n",
    "\n",
    "Note: `None` for shapes in TensorFlow allow for a dynamic size."
   ]
  },
  {
   "cell_type": "code",
   "execution_count": 2,
   "metadata": {},
   "outputs": [
    {
     "name": "stdout",
     "output_type": "stream",
     "text": [
      "Image Input Tests Passed.\n",
      "Label Input Tests Passed.\n",
      "Keep Prob Tests Passed.\n"
     ]
    }
   ],
   "source": [
    "import tensorflow as tf\n",
    "\n",
    "def neural_net_image_input(image_shape):\n",
    "    \"\"\"\n",
    "    Return a Tensor for a batch of image input\n",
    "    : image_shape: Shape of the images, a list likes (w, h, d)\n",
    "    : return: Tensor for image input.\n",
    "    \"\"\"\n",
    "    return tf.placeholder(tf.float32,\n",
    "                          [None, image_shape[0], image_shape[1], image_shape[2]],\n",
    "                          name='x')\n",
    "\n",
    "\n",
    "def neural_net_label_input(n_classes):\n",
    "    \"\"\"\n",
    "    Return a Tensor for a batch of label input\n",
    "    : n_classes: Number of classes\n",
    "    : return: Tensor for label input.\n",
    "    \"\"\"\n",
    "    return tf.placeholder(tf.int32,\n",
    "                          [None, n_classes],\n",
    "                          name='y')\n",
    "\n",
    "\n",
    "def neural_net_keep_prob_input():\n",
    "    \"\"\"\n",
    "    Return a Tensor for keep probability\n",
    "    : return: Tensor for keep probability.\n",
    "    \"\"\"\n",
    "    return tf.placeholder(tf.float32,\n",
    "                          name='keep_prob')\n",
    "\n",
    "\n",
    "\"\"\"\n",
    "DON'T MODIFY ANYTHING IN THIS CELL THAT IS BELOW THIS LINE\n",
    "\"\"\"\n",
    "tf.reset_default_graph()\n",
    "tests.test_nn_image_inputs(neural_net_image_input)\n",
    "tests.test_nn_label_inputs(neural_net_label_input)\n",
    "tests.test_nn_keep_prob_inputs(neural_net_keep_prob_input)"
   ]
  },
  {
   "cell_type": "markdown",
   "metadata": {},
   "source": [
    "### Convolution and Max Pooling Layer\n",
    "Convolution layers have a lot of success with images. For this code cell, you should implement the function `conv2d_maxpool` to apply convolution then max pooling:\n",
    "* Create the weight and bias using `conv_ksize`, `conv_num_outputs` and the shape of `x_tensor`.\n",
    "* Apply a convolution to `x_tensor` using weight and `conv_strides`.\n",
    " * We recommend you use same padding, but you're welcome to use any padding.\n",
    "* Add bias\n",
    "* Add a nonlinear activation to the convolution.\n",
    "* Apply Max Pooling using `pool_ksize` and `pool_strides`.\n",
    " * We recommend you use same padding, but you're welcome to use any padding.\n",
    "\n",
    "**Note:** You **can't** use [TensorFlow Layers](https://www.tensorflow.org/api_docs/python/tf/layers) or [TensorFlow Layers (contrib)](https://www.tensorflow.org/api_guides/python/contrib.layers) for **this** layer, but you can still use TensorFlow's [Neural Network](https://www.tensorflow.org/api_docs/python/tf/nn) package. You may still use the shortcut option for all the **other** layers.\n",
    "\n",
    "** Hint: **\n",
    "\n",
    "When unpacking values as an argument in Python, look into the [unpacking](https://docs.python.org/3/tutorial/controlflow.html#unpacking-argument-lists) operator. "
   ]
  },
  {
   "cell_type": "code",
   "execution_count": 3,
   "metadata": {},
   "outputs": [
    {
     "name": "stdout",
     "output_type": "stream",
     "text": [
      "Tests Passed\n"
     ]
    }
   ],
   "source": [
    "def conv2d_maxpool(x_tensor, \n",
    "                   conv_num_outputs, conv_ksize, conv_strides,\n",
    "                   pool_ksize, pool_strides):\n",
    "    \"\"\"\n",
    "    Apply convolution then max pooling to x_tensor\n",
    "    :param x_tensor: TensorFlow Tensor\n",
    "    :param conv_num_outputs: Number of outputs for the convolutional layer\n",
    "    :param conv_ksize: kernal size 2-D Tuple for the convolutional layer\n",
    "    :param conv_strides: Stride 2-D Tuple for convolution\n",
    "    :param pool_ksize: kernal size 2-D Tuple for pool\n",
    "    :param pool_strides: Stride 2-D Tuple for pool\n",
    "    : return: A tensor that represents convolution and max pooling of x_tensor\n",
    "    \"\"\"\n",
    "    # NHWC\n",
    "    x_tensor_depth = x_tensor.get_shape().as_list()[3]\n",
    "        \n",
    "    weights = tf.Variable(tf.truncated_normal(\n",
    "        [conv_ksize[0], conv_ksize[1], x_tensor_depth, conv_num_outputs], stddev=1/conv_num_outputs))\n",
    "    bias = tf.Variable(tf.zeros(conv_num_outputs))\n",
    "    \n",
    "    conv = tf.nn.conv2d(\n",
    "        x_tensor,\n",
    "        weights,\n",
    "        strides=[1, conv_strides[0], conv_strides[1], 1],\n",
    "        padding='SAME')\n",
    "    conv = tf.nn.bias_add(conv, bias)\n",
    "    conv = tf.nn.relu(conv)\n",
    "\n",
    "    maxpool = tf.nn.max_pool(\n",
    "        conv,\n",
    "        ksize=[1, pool_ksize[0], pool_ksize[1], 1],\n",
    "        strides=[1, pool_strides[0], pool_strides[1], 1],\n",
    "        padding='SAME')\n",
    "\n",
    "    return maxpool\n",
    "\n",
    "\n",
    "\"\"\"\n",
    "DON'T MODIFY ANYTHING IN THIS CELL THAT IS BELOW THIS LINE\n",
    "\"\"\"\n",
    "tests.test_con_pool(conv2d_maxpool)"
   ]
  },
  {
   "cell_type": "markdown",
   "metadata": {},
   "source": [
    "### Flatten Layer\n",
    "Implement the `flatten` function to change the dimension of `x_tensor` from a 4-D tensor to a 2-D tensor.  The output should be the shape (*Batch Size*, *Flattened Image Size*). Shortcut option: you can use classes from the [TensorFlow Layers](https://www.tensorflow.org/api_docs/python/tf/layers) or [TensorFlow Layers (contrib)](https://www.tensorflow.org/api_guides/python/contrib.layers) packages for this layer. For more of a challenge, only use other TensorFlow packages."
   ]
  },
  {
   "cell_type": "code",
   "execution_count": 4,
   "metadata": {},
   "outputs": [
    {
     "name": "stdout",
     "output_type": "stream",
     "text": [
      "Tests Passed\n"
     ]
    }
   ],
   "source": [
    "def flatten(x_tensor):\n",
    "    \"\"\"\n",
    "    Flatten x_tensor to (Batch Size, Flattened Image Size)\n",
    "    : x_tensor: A tensor of size (Batch Size, ...), where ... are the image dimensions.\n",
    "    : return: A tensor of size (Batch Size, Flattened Image Size).\n",
    "    \"\"\"\n",
    "    x_tensor_shape_list = x_tensor.get_shape().as_list()\n",
    "    x_tensor_height = int(x_tensor_shape_list[1])\n",
    "    x_tensor_width = int(x_tensor_shape_list[2])\n",
    "    x_tensor_depth = int(x_tensor_shape_list[3])\n",
    "    return tf.reshape(x_tensor, [-1, x_tensor_height*x_tensor_width*x_tensor_depth])\n",
    "\n",
    "\"\"\"\n",
    "DON'T MODIFY ANYTHING IN THIS CELL THAT IS BELOW THIS LINE\n",
    "\"\"\"\n",
    "tests.test_flatten(flatten)"
   ]
  },
  {
   "cell_type": "markdown",
   "metadata": {},
   "source": [
    "### Fully-Connected Layer\n",
    "Implement the `fully_conn` function to apply a fully connected layer to `x_tensor` with the shape (*Batch Size*, *num_outputs*). Shortcut option: you can use classes from the [TensorFlow Layers](https://www.tensorflow.org/api_docs/python/tf/layers) or [TensorFlow Layers (contrib)](https://www.tensorflow.org/api_guides/python/contrib.layers) packages for this layer. For more of a challenge, only use other TensorFlow packages."
   ]
  },
  {
   "cell_type": "code",
   "execution_count": 5,
   "metadata": {},
   "outputs": [
    {
     "name": "stdout",
     "output_type": "stream",
     "text": [
      "Tests Passed\n"
     ]
    }
   ],
   "source": [
    "def fully_conn(x_tensor, num_outputs):\n",
    "    \"\"\"\n",
    "    Apply a fully connected layer to x_tensor using weight and bias\n",
    "    : x_tensor: A 2-D tensor where the first dimension is batch size.\n",
    "    : num_outputs: The number of output that the new tensor should be.\n",
    "    : return: A 2-D tensor where the second dimension is num_outputs.\n",
    "    \"\"\"\n",
    "    return tf.contrib.layers.fully_connected(x_tensor, num_outputs)\n",
    "                                            \n",
    "\n",
    "\n",
    "\"\"\"\n",
    "DON'T MODIFY ANYTHING IN THIS CELL THAT IS BELOW THIS LINE\n",
    "\"\"\"\n",
    "tests.test_fully_conn(fully_conn)"
   ]
  },
  {
   "cell_type": "markdown",
   "metadata": {},
   "source": [
    "### Output Layer\n",
    "Implement the `output` function to apply a fully connected layer to `x_tensor` with the shape (*Batch Size*, *num_outputs*). Shortcut option: you can use classes from the [TensorFlow Layers](https://www.tensorflow.org/api_docs/python/tf/layers) or [TensorFlow Layers (contrib)](https://www.tensorflow.org/api_guides/python/contrib.layers) packages for this layer. For more of a challenge, only use other TensorFlow packages.\n",
    "\n",
    "**Note:** Activation, softmax, or cross entropy should **not** be applied to this."
   ]
  },
  {
   "cell_type": "code",
   "execution_count": 6,
   "metadata": {},
   "outputs": [
    {
     "name": "stdout",
     "output_type": "stream",
     "text": [
      "Tests Passed\n"
     ]
    }
   ],
   "source": [
    "def output(x_tensor, num_outputs):\n",
    "    \"\"\"\n",
    "    Apply a output layer to x_tensor using weight and bias\n",
    "    : x_tensor: A 2-D tensor where the first dimension is batch size.\n",
    "    : num_outputs: The number of output that the new tensor should be.\n",
    "    : return: A 2-D tensor where the second dimension is num_outputs.\n",
    "    \"\"\"\n",
    "    return tf.contrib.layers.fully_connected(x_tensor, num_outputs, activation_fn=None)\n",
    "\n",
    "\n",
    "\"\"\"\n",
    "DON'T MODIFY ANYTHING IN THIS CELL THAT IS BELOW THIS LINE\n",
    "\"\"\"\n",
    "tests.test_output(output)"
   ]
  },
  {
   "cell_type": "markdown",
   "metadata": {},
   "source": [
    "### Create Convolutional Model\n",
    "Implement the function `conv_net` to create a convolutional neural network model. The function takes in a batch of images, `x`, and outputs logits.  Use the layers you created above to create this model:\n",
    "\n",
    "* Apply 1, 2, or 3 Convolution and Max Pool layers\n",
    "* Apply a Flatten Layer\n",
    "* Apply 1, 2, or 3 Fully Connected Layers\n",
    "* Apply an Output Layer\n",
    "* Return the output\n",
    "* Apply [TensorFlow's Dropout](https://www.tensorflow.org/api_docs/python/tf/nn/dropout) to one or more layers in the model using `keep_prob`. "
   ]
  },
  {
   "cell_type": "code",
   "execution_count": 7,
   "metadata": {},
   "outputs": [
    {
     "name": "stdout",
     "output_type": "stream",
     "text": [
      "Neural Network Built!\n"
     ]
    }
   ],
   "source": [
    "def conv_net(x, keep_prob):\n",
    "    \"\"\"\n",
    "    Create a convolutional neural network model\n",
    "    : x: Placeholder tensor that holds image data.\n",
    "    : keep_prob: Placeholder tensor that hold dropout keep probability.\n",
    "    : return: Tensor that represents logits\n",
    "    \"\"\"\n",
    "    # input 32*32*3\n",
    "    \n",
    "    # Conv_maxpoo 1  -> b*16*16*16  \n",
    "    conv1 = conv2d_maxpool(x, 16, (4, 4), (1, 1), (2, 2), (2, 2))\n",
    "    \n",
    "    # Conv_maxpoo 2  -> b*8*8*32\n",
    "    conv2 = conv2d_maxpool(conv1, 32, (4, 4), (1, 1), (2, 2), (2, 2))\n",
    "    \n",
    "    # Conv_maxpoo 2  -> b*4*4*64\n",
    "    conv3 = conv2d_maxpool(conv2, 64, (4, 4), (1, 1), (2, 2), (2, 2))    \n",
    "    \n",
    "    # Flatten layer  -> b*1024\n",
    "    flat = flatten(conv3)\n",
    "\n",
    "    # fully connected layer b*128\n",
    "    fc1 = fully_conn(flat, 128)\n",
    "    fc1 = tf.nn.dropout(fc1, keep_prob)\n",
    "    \n",
    "    # b*64\n",
    "    fc2 = fully_conn(fc1, 64)\n",
    "    fc2 = tf.nn.dropout(fc2, keep_prob)\n",
    "     \n",
    "    # output layer b*10\n",
    "    out = output(fc2, 10)\n",
    "    \n",
    "    return out\n",
    "\n",
    "\n",
    "\"\"\"\n",
    "DON'T MODIFY ANYTHING IN THIS CELL THAT IS BELOW THIS LINE\n",
    "\"\"\"\n",
    "\n",
    "##############################\n",
    "## Build the Neural Network ##\n",
    "##############################\n",
    "\n",
    "# Remove previous weights, bias, inputs, etc..\n",
    "tf.reset_default_graph()\n",
    "\n",
    "# Inputs\n",
    "x = neural_net_image_input((32, 32, 3))\n",
    "y = neural_net_label_input(10)\n",
    "keep_prob = neural_net_keep_prob_input()\n",
    "\n",
    "# Model\n",
    "logits = conv_net(x, keep_prob)\n",
    "\n",
    "# Name logits Tensor, so that is can be loaded from disk after training\n",
    "logits = tf.identity(logits, name='logits')\n",
    "\n",
    "# Loss and Optimizer\n",
    "cost = tf.reduce_mean(tf.nn.softmax_cross_entropy_with_logits(logits=logits, labels=y))\n",
    "optimizer = tf.train.AdamOptimizer().minimize(cost)\n",
    "\n",
    "# Accuracy\n",
    "correct_pred = tf.equal(tf.argmax(logits, 1), tf.argmax(y, 1))\n",
    "accuracy = tf.reduce_mean(tf.cast(correct_pred, tf.float32), name='accuracy')\n",
    "\n",
    "tests.test_conv_net(conv_net)"
   ]
  },
  {
   "cell_type": "markdown",
   "metadata": {},
   "source": [
    "## Train the Neural Network\n",
    "### Single Optimization\n",
    "Implement the function `train_neural_network` to do a single optimization.  The optimization should use `optimizer` to optimize in `session` with a `feed_dict` of the following:\n",
    "* `x` for image input\n",
    "* `y` for labels\n",
    "* `keep_prob` for keep probability for dropout\n",
    "\n",
    "This function will be called for each batch, so `tf.global_variables_initializer()` has already been called.\n",
    "\n",
    "Note: Nothing needs to be returned. This function is only optimizing the neural network."
   ]
  },
  {
   "cell_type": "code",
   "execution_count": 10,
   "metadata": {},
   "outputs": [
    {
     "name": "stdout",
     "output_type": "stream",
     "text": [
      "Tests Passed\n"
     ]
    }
   ],
   "source": [
    "def train_neural_network(session, optimizer, keep_probability, feature_batch, label_batch):\n",
    "    \"\"\"\n",
    "    Optimize the session on a batch of images and labels\n",
    "    : session: Current TensorFlow session\n",
    "    : optimizer: TensorFlow optimizer function\n",
    "    : keep_probability: keep probability\n",
    "    : feature_batch: Batch of Numpy image data\n",
    "    : label_batch: Batch of Numpy label data\n",
    "    \"\"\"    \n",
    "    \n",
    "    session.run(optimizer, feed_dict={\n",
    "        x : feature_batch,\n",
    "        y : label_batch,\n",
    "        keep_prob : keep_probability\n",
    "    })\n",
    "    return\n",
    "    \n",
    "\n",
    "\"\"\"\n",
    "DON'T MODIFY ANYTHING IN THIS CELL THAT IS BELOW THIS LINE\n",
    "\"\"\"\n",
    "tests.test_train_nn(train_neural_network)"
   ]
  },
  {
   "cell_type": "markdown",
   "metadata": {},
   "source": [
    "### Show Stats\n",
    "Implement the function `print_stats` to print loss and validation accuracy.  Use the global variables `valid_features` and `valid_labels` to calculate validation accuracy.  Use a keep probability of `1.0` to calculate the loss and validation accuracy."
   ]
  },
  {
   "cell_type": "code",
   "execution_count": 11,
   "metadata": {},
   "outputs": [],
   "source": [
    "def print_stats(session, feature_batch, label_batch, cost, accuracy):\n",
    "    \"\"\"\n",
    "    Print information about loss and validation accuracy\n",
    "    : session: Current TensorFlow session\n",
    "    : feature_batch: Batch of Numpy image data\n",
    "    : label_batch: Batch of Numpy label data\n",
    "    : cost: TensorFlow cost function\n",
    "    : accuracy: TensorFlow accuracy function\n",
    "    \"\"\"\n",
    "    cost_value = session.run(cost, feed_dict={\n",
    "        x : feature_batch,\n",
    "        y : label_batch,\n",
    "        keep_prob : 1.0\n",
    "    })\n",
    "    \n",
    "    training_accuracy_value = session.run(accuracy, feed_dict={\n",
    "        x : feature_batch,\n",
    "        y : label_batch,\n",
    "        keep_prob : 1.0\n",
    "    })\n",
    "    \n",
    "    test_accuracy_value = session.run(accuracy, feed_dict={\n",
    "        x : valid_features,\n",
    "        y : valid_labels,\n",
    "        keep_prob : 1.0\n",
    "    })\n",
    "    \n",
    "    print('Loss: {:>10.4f} Training Accuracy: {:.6f} Validation Accuracy: {:.6f}'.format(\n",
    "        cost_value, training_accuracy_value, test_accuracy_value))\n",
    "    return"
   ]
  },
  {
   "cell_type": "markdown",
   "metadata": {},
   "source": [
    "### Hyperparameters\n",
    "Tune the following parameters:\n",
    "* Set `epochs` to the number of iterations until the network stops learning or start overfitting\n",
    "* Set `batch_size` to the highest number that your machine has memory for.  Most people set them to common sizes of memory:\n",
    " * 64\n",
    " * 128\n",
    " * 256\n",
    " * ...\n",
    "* Set `keep_probability` to the probability of keeping a node using dropout"
   ]
  },
  {
   "cell_type": "code",
   "execution_count": 12,
   "metadata": {},
   "outputs": [],
   "source": [
    "# TODO: Tune Parameters\n",
    "epochs = 30\n",
    "batch_size = 128\n",
    "keep_probability = 0.75"
   ]
  },
  {
   "cell_type": "markdown",
   "metadata": {},
   "source": [
    "### Train on a Single CIFAR-10 Batch\n",
    "Instead of training the neural network on all the CIFAR-10 batches of data, let's use a single batch. This should save time while you iterate on the model to get a better accuracy.  Once the final validation accuracy is 50% or greater, run the model on all the data in the next section."
   ]
  },
  {
   "cell_type": "code",
   "execution_count": 13,
   "metadata": {},
   "outputs": [
    {
     "name": "stdout",
     "output_type": "stream",
     "text": [
      "Checking the Training on a Single Batch...\n",
      "Epoch  1, CIFAR-10 Batch 1:  Loss:     2.1906 Training Accuracy: 0.225000 Validation Accuracy: 0.252400\n",
      "Epoch  2, CIFAR-10 Batch 1:  Loss:     2.0228 Training Accuracy: 0.325000 Validation Accuracy: 0.359600\n",
      "Epoch  3, CIFAR-10 Batch 1:  Loss:     1.7840 Training Accuracy: 0.450000 Validation Accuracy: 0.414200\n",
      "Epoch  4, CIFAR-10 Batch 1:  Loss:     1.6494 Training Accuracy: 0.400000 Validation Accuracy: 0.425800\n",
      "Epoch  5, CIFAR-10 Batch 1:  Loss:     1.5995 Training Accuracy: 0.475000 Validation Accuracy: 0.462800\n",
      "Epoch  6, CIFAR-10 Batch 1:  Loss:     1.4816 Training Accuracy: 0.475000 Validation Accuracy: 0.461200\n",
      "Epoch  7, CIFAR-10 Batch 1:  Loss:     1.4480 Training Accuracy: 0.525000 Validation Accuracy: 0.481000\n",
      "Epoch  8, CIFAR-10 Batch 1:  Loss:     1.4002 Training Accuracy: 0.525000 Validation Accuracy: 0.486200\n",
      "Epoch  9, CIFAR-10 Batch 1:  Loss:     1.2934 Training Accuracy: 0.625000 Validation Accuracy: 0.504600\n",
      "Epoch 10, CIFAR-10 Batch 1:  Loss:     1.1446 Training Accuracy: 0.625000 Validation Accuracy: 0.506400\n",
      "Epoch 11, CIFAR-10 Batch 1:  Loss:     1.0647 Training Accuracy: 0.650000 Validation Accuracy: 0.514400\n",
      "Epoch 12, CIFAR-10 Batch 1:  Loss:     1.0144 Training Accuracy: 0.650000 Validation Accuracy: 0.531800\n",
      "Epoch 13, CIFAR-10 Batch 1:  Loss:     0.8947 Training Accuracy: 0.650000 Validation Accuracy: 0.504400\n",
      "Epoch 14, CIFAR-10 Batch 1:  Loss:     0.8346 Training Accuracy: 0.725000 Validation Accuracy: 0.540600\n",
      "Epoch 15, CIFAR-10 Batch 1:  Loss:     0.7538 Training Accuracy: 0.725000 Validation Accuracy: 0.531600\n",
      "Epoch 16, CIFAR-10 Batch 1:  Loss:     0.7486 Training Accuracy: 0.750000 Validation Accuracy: 0.547600\n",
      "Epoch 17, CIFAR-10 Batch 1:  Loss:     0.6325 Training Accuracy: 0.800000 Validation Accuracy: 0.543000\n",
      "Epoch 18, CIFAR-10 Batch 1:  Loss:     0.5676 Training Accuracy: 0.850000 Validation Accuracy: 0.542200\n",
      "Epoch 19, CIFAR-10 Batch 1:  Loss:     0.5987 Training Accuracy: 0.825000 Validation Accuracy: 0.555600\n",
      "Epoch 20, CIFAR-10 Batch 1:  Loss:     0.5136 Training Accuracy: 0.800000 Validation Accuracy: 0.557200\n",
      "Epoch 21, CIFAR-10 Batch 1:  Loss:     0.5133 Training Accuracy: 0.825000 Validation Accuracy: 0.559600\n",
      "Epoch 22, CIFAR-10 Batch 1:  Loss:     0.5575 Training Accuracy: 0.800000 Validation Accuracy: 0.532200\n",
      "Epoch 23, CIFAR-10 Batch 1:  Loss:     0.4219 Training Accuracy: 0.900000 Validation Accuracy: 0.576600\n",
      "Epoch 24, CIFAR-10 Batch 1:  Loss:     0.4114 Training Accuracy: 0.875000 Validation Accuracy: 0.572800\n",
      "Epoch 25, CIFAR-10 Batch 1:  Loss:     0.3521 Training Accuracy: 0.875000 Validation Accuracy: 0.575600\n",
      "Epoch 26, CIFAR-10 Batch 1:  Loss:     0.3293 Training Accuracy: 0.900000 Validation Accuracy: 0.568000\n",
      "Epoch 27, CIFAR-10 Batch 1:  Loss:     0.2858 Training Accuracy: 0.950000 Validation Accuracy: 0.567000\n",
      "Epoch 28, CIFAR-10 Batch 1:  Loss:     0.2304 Training Accuracy: 0.900000 Validation Accuracy: 0.544400\n",
      "Epoch 29, CIFAR-10 Batch 1:  Loss:     0.2414 Training Accuracy: 0.925000 Validation Accuracy: 0.566800\n",
      "Epoch 30, CIFAR-10 Batch 1:  Loss:     0.2132 Training Accuracy: 0.950000 Validation Accuracy: 0.553200\n"
     ]
    }
   ],
   "source": [
    "\"\"\"\n",
    "DON'T MODIFY ANYTHING IN THIS CELL\n",
    "\"\"\"\n",
    "print('Checking the Training on a Single Batch...')\n",
    "with tf.Session() as sess:\n",
    "    # Initializing the variables\n",
    "    sess.run(tf.global_variables_initializer())\n",
    "    \n",
    "    # Training cycle\n",
    "    for epoch in range(epochs):\n",
    "        batch_i = 1\n",
    "        for batch_features, batch_labels in helper.load_preprocess_training_batch(batch_i, batch_size):\n",
    "            train_neural_network(sess, optimizer, keep_probability, batch_features, batch_labels)\n",
    "        print('Epoch {:>2}, CIFAR-10 Batch {}:  '.format(epoch + 1, batch_i), end='')\n",
    "        print_stats(sess, batch_features, batch_labels, cost, accuracy)"
   ]
  },
  {
   "cell_type": "markdown",
   "metadata": {},
   "source": [
    "### Fully Train the Model\n",
    "Now that you got a good accuracy with a single CIFAR-10 batch, try it with all five batches."
   ]
  },
  {
   "cell_type": "code",
   "execution_count": 14,
   "metadata": {},
   "outputs": [
    {
     "name": "stdout",
     "output_type": "stream",
     "text": [
      "Training...\n",
      "Epoch  1, CIFAR-10 Batch 1:  Loss:     2.1456 Training Accuracy: 0.225000 Validation Accuracy: 0.266600\n",
      "Epoch  1, CIFAR-10 Batch 2:  Loss:     1.9425 Training Accuracy: 0.325000 Validation Accuracy: 0.314600\n",
      "Epoch  1, CIFAR-10 Batch 3:  Loss:     1.5672 Training Accuracy: 0.450000 Validation Accuracy: 0.374800\n",
      "Epoch  1, CIFAR-10 Batch 4:  Loss:     1.6228 Training Accuracy: 0.350000 Validation Accuracy: 0.399400\n",
      "Epoch  1, CIFAR-10 Batch 5:  Loss:     1.5595 Training Accuracy: 0.425000 Validation Accuracy: 0.435000\n",
      "Epoch  2, CIFAR-10 Batch 1:  Loss:     1.6188 Training Accuracy: 0.475000 Validation Accuracy: 0.462200\n",
      "Epoch  2, CIFAR-10 Batch 2:  Loss:     1.4725 Training Accuracy: 0.525000 Validation Accuracy: 0.447400\n",
      "Epoch  2, CIFAR-10 Batch 3:  Loss:     1.1260 Training Accuracy: 0.600000 Validation Accuracy: 0.484200\n",
      "Epoch  2, CIFAR-10 Batch 4:  Loss:     1.3944 Training Accuracy: 0.400000 Validation Accuracy: 0.496600\n",
      "Epoch  2, CIFAR-10 Batch 5:  Loss:     1.2057 Training Accuracy: 0.625000 Validation Accuracy: 0.527400\n",
      "Epoch  3, CIFAR-10 Batch 1:  Loss:     1.2966 Training Accuracy: 0.525000 Validation Accuracy: 0.538800\n",
      "Epoch  3, CIFAR-10 Batch 2:  Loss:     1.1225 Training Accuracy: 0.525000 Validation Accuracy: 0.532600\n",
      "Epoch  3, CIFAR-10 Batch 3:  Loss:     1.0200 Training Accuracy: 0.650000 Validation Accuracy: 0.542400\n",
      "Epoch  3, CIFAR-10 Batch 4:  Loss:     1.0423 Training Accuracy: 0.625000 Validation Accuracy: 0.560600\n",
      "Epoch  3, CIFAR-10 Batch 5:  Loss:     1.1322 Training Accuracy: 0.600000 Validation Accuracy: 0.583400\n",
      "Epoch  4, CIFAR-10 Batch 1:  Loss:     1.1012 Training Accuracy: 0.650000 Validation Accuracy: 0.588000\n",
      "Epoch  4, CIFAR-10 Batch 2:  Loss:     0.9561 Training Accuracy: 0.600000 Validation Accuracy: 0.605600\n",
      "Epoch  4, CIFAR-10 Batch 3:  Loss:     0.9074 Training Accuracy: 0.725000 Validation Accuracy: 0.586000\n",
      "Epoch  4, CIFAR-10 Batch 4:  Loss:     0.8479 Training Accuracy: 0.700000 Validation Accuracy: 0.615800\n",
      "Epoch  4, CIFAR-10 Batch 5:  Loss:     0.9452 Training Accuracy: 0.725000 Validation Accuracy: 0.626600\n",
      "Epoch  5, CIFAR-10 Batch 1:  Loss:     0.9076 Training Accuracy: 0.650000 Validation Accuracy: 0.611000\n",
      "Epoch  5, CIFAR-10 Batch 2:  Loss:     0.8942 Training Accuracy: 0.650000 Validation Accuracy: 0.632800\n",
      "Epoch  5, CIFAR-10 Batch 3:  Loss:     0.7721 Training Accuracy: 0.800000 Validation Accuracy: 0.629000\n",
      "Epoch  5, CIFAR-10 Batch 4:  Loss:     0.7246 Training Accuracy: 0.675000 Validation Accuracy: 0.643000\n",
      "Epoch  5, CIFAR-10 Batch 5:  Loss:     0.8168 Training Accuracy: 0.750000 Validation Accuracy: 0.629600\n",
      "Epoch  6, CIFAR-10 Batch 1:  Loss:     0.8411 Training Accuracy: 0.775000 Validation Accuracy: 0.641000\n",
      "Epoch  6, CIFAR-10 Batch 2:  Loss:     0.7238 Training Accuracy: 0.775000 Validation Accuracy: 0.636200\n",
      "Epoch  6, CIFAR-10 Batch 3:  Loss:     0.6220 Training Accuracy: 0.800000 Validation Accuracy: 0.654400\n",
      "Epoch  6, CIFAR-10 Batch 4:  Loss:     0.6600 Training Accuracy: 0.750000 Validation Accuracy: 0.647000\n",
      "Epoch  6, CIFAR-10 Batch 5:  Loss:     0.6783 Training Accuracy: 0.800000 Validation Accuracy: 0.667800\n",
      "Epoch  7, CIFAR-10 Batch 1:  Loss:     0.6907 Training Accuracy: 0.775000 Validation Accuracy: 0.672200\n",
      "Epoch  7, CIFAR-10 Batch 2:  Loss:     0.7082 Training Accuracy: 0.800000 Validation Accuracy: 0.650400\n",
      "Epoch  7, CIFAR-10 Batch 3:  Loss:     0.5752 Training Accuracy: 0.800000 Validation Accuracy: 0.661800\n",
      "Epoch  7, CIFAR-10 Batch 4:  Loss:     0.5643 Training Accuracy: 0.775000 Validation Accuracy: 0.666600\n",
      "Epoch  7, CIFAR-10 Batch 5:  Loss:     0.5272 Training Accuracy: 0.900000 Validation Accuracy: 0.687800\n",
      "Epoch  8, CIFAR-10 Batch 1:  Loss:     0.5564 Training Accuracy: 0.850000 Validation Accuracy: 0.677600\n",
      "Epoch  8, CIFAR-10 Batch 2:  Loss:     0.6465 Training Accuracy: 0.800000 Validation Accuracy: 0.659400\n",
      "Epoch  8, CIFAR-10 Batch 3:  Loss:     0.4894 Training Accuracy: 0.850000 Validation Accuracy: 0.683600\n",
      "Epoch  8, CIFAR-10 Batch 4:  Loss:     0.5113 Training Accuracy: 0.825000 Validation Accuracy: 0.678200\n",
      "Epoch  8, CIFAR-10 Batch 5:  Loss:     0.4264 Training Accuracy: 0.925000 Validation Accuracy: 0.685800\n",
      "Epoch  9, CIFAR-10 Batch 1:  Loss:     0.4701 Training Accuracy: 0.850000 Validation Accuracy: 0.691600\n",
      "Epoch  9, CIFAR-10 Batch 2:  Loss:     0.5759 Training Accuracy: 0.825000 Validation Accuracy: 0.662400\n",
      "Epoch  9, CIFAR-10 Batch 3:  Loss:     0.4308 Training Accuracy: 0.900000 Validation Accuracy: 0.686200\n",
      "Epoch  9, CIFAR-10 Batch 4:  Loss:     0.4525 Training Accuracy: 0.900000 Validation Accuracy: 0.690000\n",
      "Epoch  9, CIFAR-10 Batch 5:  Loss:     0.3938 Training Accuracy: 0.900000 Validation Accuracy: 0.689600\n",
      "Epoch 10, CIFAR-10 Batch 1:  Loss:     0.4232 Training Accuracy: 0.875000 Validation Accuracy: 0.682400\n",
      "Epoch 10, CIFAR-10 Batch 2:  Loss:     0.4269 Training Accuracy: 0.950000 Validation Accuracy: 0.675400\n",
      "Epoch 10, CIFAR-10 Batch 3:  Loss:     0.3371 Training Accuracy: 0.900000 Validation Accuracy: 0.691800\n",
      "Epoch 10, CIFAR-10 Batch 4:  Loss:     0.4672 Training Accuracy: 0.850000 Validation Accuracy: 0.695000\n",
      "Epoch 10, CIFAR-10 Batch 5:  Loss:     0.3613 Training Accuracy: 0.925000 Validation Accuracy: 0.692800\n",
      "Epoch 11, CIFAR-10 Batch 1:  Loss:     0.3559 Training Accuracy: 0.925000 Validation Accuracy: 0.695800\n",
      "Epoch 11, CIFAR-10 Batch 2:  Loss:     0.3874 Training Accuracy: 0.900000 Validation Accuracy: 0.691200\n",
      "Epoch 11, CIFAR-10 Batch 3:  Loss:     0.2903 Training Accuracy: 0.950000 Validation Accuracy: 0.703400\n",
      "Epoch 11, CIFAR-10 Batch 4:  Loss:     0.4580 Training Accuracy: 0.800000 Validation Accuracy: 0.680600\n",
      "Epoch 11, CIFAR-10 Batch 5:  Loss:     0.3692 Training Accuracy: 0.900000 Validation Accuracy: 0.705000\n",
      "Epoch 12, CIFAR-10 Batch 1:  Loss:     0.3426 Training Accuracy: 0.925000 Validation Accuracy: 0.695600\n",
      "Epoch 12, CIFAR-10 Batch 2:  Loss:     0.4115 Training Accuracy: 0.875000 Validation Accuracy: 0.700600\n",
      "Epoch 12, CIFAR-10 Batch 3:  Loss:     0.2889 Training Accuracy: 0.950000 Validation Accuracy: 0.707200\n",
      "Epoch 12, CIFAR-10 Batch 4:  Loss:     0.3735 Training Accuracy: 0.875000 Validation Accuracy: 0.708400\n",
      "Epoch 12, CIFAR-10 Batch 5:  Loss:     0.2706 Training Accuracy: 0.975000 Validation Accuracy: 0.703800\n",
      "Epoch 13, CIFAR-10 Batch 1:  Loss:     0.2820 Training Accuracy: 0.900000 Validation Accuracy: 0.700000\n",
      "Epoch 13, CIFAR-10 Batch 2:  Loss:     0.3204 Training Accuracy: 0.850000 Validation Accuracy: 0.699800\n",
      "Epoch 13, CIFAR-10 Batch 3:  Loss:     0.2590 Training Accuracy: 0.975000 Validation Accuracy: 0.701800\n",
      "Epoch 13, CIFAR-10 Batch 4:  Loss:     0.3443 Training Accuracy: 0.875000 Validation Accuracy: 0.699000\n",
      "Epoch 13, CIFAR-10 Batch 5:  Loss:     0.2576 Training Accuracy: 0.950000 Validation Accuracy: 0.712200\n",
      "Epoch 14, CIFAR-10 Batch 1:  Loss:     0.3160 Training Accuracy: 0.925000 Validation Accuracy: 0.690000\n",
      "Epoch 14, CIFAR-10 Batch 2:  Loss:     0.2742 Training Accuracy: 0.925000 Validation Accuracy: 0.710800\n",
      "Epoch 14, CIFAR-10 Batch 3:  Loss:     0.2474 Training Accuracy: 0.950000 Validation Accuracy: 0.693000\n",
      "Epoch 14, CIFAR-10 Batch 4:  Loss:     0.2934 Training Accuracy: 0.900000 Validation Accuracy: 0.696400\n",
      "Epoch 14, CIFAR-10 Batch 5:  Loss:     0.2203 Training Accuracy: 0.950000 Validation Accuracy: 0.714600\n",
      "Epoch 15, CIFAR-10 Batch 1:  Loss:     0.2042 Training Accuracy: 0.975000 Validation Accuracy: 0.709600\n",
      "Epoch 15, CIFAR-10 Batch 2:  Loss:     0.2935 Training Accuracy: 0.925000 Validation Accuracy: 0.715200\n",
      "Epoch 15, CIFAR-10 Batch 3:  Loss:     0.2048 Training Accuracy: 0.975000 Validation Accuracy: 0.694200\n",
      "Epoch 15, CIFAR-10 Batch 4:  Loss:     0.2484 Training Accuracy: 0.925000 Validation Accuracy: 0.701600\n",
      "Epoch 15, CIFAR-10 Batch 5:  Loss:     0.1874 Training Accuracy: 0.975000 Validation Accuracy: 0.711000\n",
      "Epoch 16, CIFAR-10 Batch 1:  Loss:     0.1926 Training Accuracy: 0.975000 Validation Accuracy: 0.708400\n",
      "Epoch 16, CIFAR-10 Batch 2:  Loss:     0.2564 Training Accuracy: 0.975000 Validation Accuracy: 0.710000\n",
      "Epoch 16, CIFAR-10 Batch 3:  Loss:     0.2361 Training Accuracy: 0.950000 Validation Accuracy: 0.694400\n",
      "Epoch 16, CIFAR-10 Batch 4:  Loss:     0.2923 Training Accuracy: 0.925000 Validation Accuracy: 0.696000\n"
     ]
    },
    {
     "name": "stdout",
     "output_type": "stream",
     "text": [
      "Epoch 16, CIFAR-10 Batch 5:  Loss:     0.1671 Training Accuracy: 0.950000 Validation Accuracy: 0.702000\n",
      "Epoch 17, CIFAR-10 Batch 1:  Loss:     0.2481 Training Accuracy: 0.925000 Validation Accuracy: 0.706000\n",
      "Epoch 17, CIFAR-10 Batch 2:  Loss:     0.2589 Training Accuracy: 0.900000 Validation Accuracy: 0.706000\n",
      "Epoch 17, CIFAR-10 Batch 3:  Loss:     0.2028 Training Accuracy: 0.950000 Validation Accuracy: 0.696400\n",
      "Epoch 17, CIFAR-10 Batch 4:  Loss:     0.2350 Training Accuracy: 0.925000 Validation Accuracy: 0.693200\n",
      "Epoch 17, CIFAR-10 Batch 5:  Loss:     0.1799 Training Accuracy: 0.975000 Validation Accuracy: 0.695200\n",
      "Epoch 18, CIFAR-10 Batch 1:  Loss:     0.2126 Training Accuracy: 0.925000 Validation Accuracy: 0.702400\n",
      "Epoch 18, CIFAR-10 Batch 2:  Loss:     0.2078 Training Accuracy: 0.925000 Validation Accuracy: 0.711400\n",
      "Epoch 18, CIFAR-10 Batch 3:  Loss:     0.1850 Training Accuracy: 0.975000 Validation Accuracy: 0.717000\n",
      "Epoch 18, CIFAR-10 Batch 4:  Loss:     0.2367 Training Accuracy: 0.950000 Validation Accuracy: 0.689400\n",
      "Epoch 18, CIFAR-10 Batch 5:  Loss:     0.1466 Training Accuracy: 1.000000 Validation Accuracy: 0.705000\n",
      "Epoch 19, CIFAR-10 Batch 1:  Loss:     0.2090 Training Accuracy: 0.950000 Validation Accuracy: 0.713600\n",
      "Epoch 19, CIFAR-10 Batch 2:  Loss:     0.2059 Training Accuracy: 0.925000 Validation Accuracy: 0.706200\n",
      "Epoch 19, CIFAR-10 Batch 3:  Loss:     0.1420 Training Accuracy: 1.000000 Validation Accuracy: 0.690200\n",
      "Epoch 19, CIFAR-10 Batch 4:  Loss:     0.2326 Training Accuracy: 0.925000 Validation Accuracy: 0.701200\n",
      "Epoch 19, CIFAR-10 Batch 5:  Loss:     0.1505 Training Accuracy: 1.000000 Validation Accuracy: 0.702000\n",
      "Epoch 20, CIFAR-10 Batch 1:  Loss:     0.2116 Training Accuracy: 0.950000 Validation Accuracy: 0.702600\n",
      "Epoch 20, CIFAR-10 Batch 2:  Loss:     0.1697 Training Accuracy: 0.925000 Validation Accuracy: 0.704600\n",
      "Epoch 20, CIFAR-10 Batch 3:  Loss:     0.1356 Training Accuracy: 1.000000 Validation Accuracy: 0.699000\n",
      "Epoch 20, CIFAR-10 Batch 4:  Loss:     0.2060 Training Accuracy: 0.975000 Validation Accuracy: 0.690600\n",
      "Epoch 20, CIFAR-10 Batch 5:  Loss:     0.1672 Training Accuracy: 0.975000 Validation Accuracy: 0.690800\n",
      "Epoch 21, CIFAR-10 Batch 1:  Loss:     0.1709 Training Accuracy: 0.925000 Validation Accuracy: 0.706000\n",
      "Epoch 21, CIFAR-10 Batch 2:  Loss:     0.1521 Training Accuracy: 0.925000 Validation Accuracy: 0.707800\n",
      "Epoch 21, CIFAR-10 Batch 3:  Loss:     0.1766 Training Accuracy: 0.975000 Validation Accuracy: 0.707600\n",
      "Epoch 21, CIFAR-10 Batch 4:  Loss:     0.2580 Training Accuracy: 0.900000 Validation Accuracy: 0.691800\n",
      "Epoch 21, CIFAR-10 Batch 5:  Loss:     0.1423 Training Accuracy: 0.975000 Validation Accuracy: 0.707800\n",
      "Epoch 22, CIFAR-10 Batch 1:  Loss:     0.2196 Training Accuracy: 0.925000 Validation Accuracy: 0.713200\n",
      "Epoch 22, CIFAR-10 Batch 2:  Loss:     0.1421 Training Accuracy: 0.950000 Validation Accuracy: 0.708600\n",
      "Epoch 22, CIFAR-10 Batch 3:  Loss:     0.1581 Training Accuracy: 0.975000 Validation Accuracy: 0.700600\n",
      "Epoch 22, CIFAR-10 Batch 4:  Loss:     0.2385 Training Accuracy: 0.950000 Validation Accuracy: 0.679600\n",
      "Epoch 22, CIFAR-10 Batch 5:  Loss:     0.1028 Training Accuracy: 1.000000 Validation Accuracy: 0.713400\n",
      "Epoch 23, CIFAR-10 Batch 1:  Loss:     0.1614 Training Accuracy: 0.975000 Validation Accuracy: 0.710600\n",
      "Epoch 23, CIFAR-10 Batch 2:  Loss:     0.1507 Training Accuracy: 0.925000 Validation Accuracy: 0.698000\n",
      "Epoch 23, CIFAR-10 Batch 3:  Loss:     0.1828 Training Accuracy: 0.975000 Validation Accuracy: 0.688800\n",
      "Epoch 23, CIFAR-10 Batch 4:  Loss:     0.2520 Training Accuracy: 0.925000 Validation Accuracy: 0.685000\n",
      "Epoch 23, CIFAR-10 Batch 5:  Loss:     0.0864 Training Accuracy: 1.000000 Validation Accuracy: 0.701800\n",
      "Epoch 24, CIFAR-10 Batch 1:  Loss:     0.1523 Training Accuracy: 0.975000 Validation Accuracy: 0.710000\n",
      "Epoch 24, CIFAR-10 Batch 2:  Loss:     0.1584 Training Accuracy: 0.950000 Validation Accuracy: 0.701000\n",
      "Epoch 24, CIFAR-10 Batch 3:  Loss:     0.1037 Training Accuracy: 1.000000 Validation Accuracy: 0.701400\n",
      "Epoch 24, CIFAR-10 Batch 4:  Loss:     0.1760 Training Accuracy: 0.925000 Validation Accuracy: 0.689800\n",
      "Epoch 24, CIFAR-10 Batch 5:  Loss:     0.0731 Training Accuracy: 1.000000 Validation Accuracy: 0.706800\n",
      "Epoch 25, CIFAR-10 Batch 1:  Loss:     0.0949 Training Accuracy: 1.000000 Validation Accuracy: 0.710600\n",
      "Epoch 25, CIFAR-10 Batch 2:  Loss:     0.1268 Training Accuracy: 0.975000 Validation Accuracy: 0.698600\n",
      "Epoch 25, CIFAR-10 Batch 3:  Loss:     0.1078 Training Accuracy: 1.000000 Validation Accuracy: 0.698000\n",
      "Epoch 25, CIFAR-10 Batch 4:  Loss:     0.1720 Training Accuracy: 0.950000 Validation Accuracy: 0.702000\n",
      "Epoch 25, CIFAR-10 Batch 5:  Loss:     0.1111 Training Accuracy: 0.975000 Validation Accuracy: 0.696400\n",
      "Epoch 26, CIFAR-10 Batch 1:  Loss:     0.1288 Training Accuracy: 0.975000 Validation Accuracy: 0.699000\n",
      "Epoch 26, CIFAR-10 Batch 2:  Loss:     0.1250 Training Accuracy: 0.950000 Validation Accuracy: 0.707000\n",
      "Epoch 26, CIFAR-10 Batch 3:  Loss:     0.1410 Training Accuracy: 0.975000 Validation Accuracy: 0.672400\n",
      "Epoch 26, CIFAR-10 Batch 4:  Loss:     0.1599 Training Accuracy: 0.950000 Validation Accuracy: 0.699200\n",
      "Epoch 26, CIFAR-10 Batch 5:  Loss:     0.0888 Training Accuracy: 1.000000 Validation Accuracy: 0.702800\n",
      "Epoch 27, CIFAR-10 Batch 1:  Loss:     0.1214 Training Accuracy: 0.975000 Validation Accuracy: 0.706200\n",
      "Epoch 27, CIFAR-10 Batch 2:  Loss:     0.1352 Training Accuracy: 0.975000 Validation Accuracy: 0.705200\n",
      "Epoch 27, CIFAR-10 Batch 3:  Loss:     0.0908 Training Accuracy: 1.000000 Validation Accuracy: 0.686200\n",
      "Epoch 27, CIFAR-10 Batch 4:  Loss:     0.1130 Training Accuracy: 0.975000 Validation Accuracy: 0.700800\n",
      "Epoch 27, CIFAR-10 Batch 5:  Loss:     0.0689 Training Accuracy: 1.000000 Validation Accuracy: 0.713400\n",
      "Epoch 28, CIFAR-10 Batch 1:  Loss:     0.0993 Training Accuracy: 0.950000 Validation Accuracy: 0.698800\n",
      "Epoch 28, CIFAR-10 Batch 2:  Loss:     0.0954 Training Accuracy: 0.950000 Validation Accuracy: 0.692000\n",
      "Epoch 28, CIFAR-10 Batch 3:  Loss:     0.0892 Training Accuracy: 1.000000 Validation Accuracy: 0.697400\n",
      "Epoch 28, CIFAR-10 Batch 4:  Loss:     0.1303 Training Accuracy: 0.975000 Validation Accuracy: 0.691800\n",
      "Epoch 28, CIFAR-10 Batch 5:  Loss:     0.0741 Training Accuracy: 1.000000 Validation Accuracy: 0.700600\n",
      "Epoch 29, CIFAR-10 Batch 1:  Loss:     0.0874 Training Accuracy: 0.975000 Validation Accuracy: 0.704800\n",
      "Epoch 29, CIFAR-10 Batch 2:  Loss:     0.0888 Training Accuracy: 1.000000 Validation Accuracy: 0.700800\n",
      "Epoch 29, CIFAR-10 Batch 3:  Loss:     0.0868 Training Accuracy: 0.975000 Validation Accuracy: 0.701000\n",
      "Epoch 29, CIFAR-10 Batch 4:  Loss:     0.1576 Training Accuracy: 0.950000 Validation Accuracy: 0.693600\n",
      "Epoch 29, CIFAR-10 Batch 5:  Loss:     0.0511 Training Accuracy: 1.000000 Validation Accuracy: 0.704200\n",
      "Epoch 30, CIFAR-10 Batch 1:  Loss:     0.0903 Training Accuracy: 0.975000 Validation Accuracy: 0.702000\n",
      "Epoch 30, CIFAR-10 Batch 2:  Loss:     0.0902 Training Accuracy: 0.975000 Validation Accuracy: 0.689400\n",
      "Epoch 30, CIFAR-10 Batch 3:  Loss:     0.0440 Training Accuracy: 1.000000 Validation Accuracy: 0.711400\n",
      "Epoch 30, CIFAR-10 Batch 4:  Loss:     0.1317 Training Accuracy: 1.000000 Validation Accuracy: 0.691200\n",
      "Epoch 30, CIFAR-10 Batch 5:  Loss:     0.0538 Training Accuracy: 1.000000 Validation Accuracy: 0.707000\n"
     ]
    }
   ],
   "source": [
    "\"\"\"\n",
    "DON'T MODIFY ANYTHING IN THIS CELL\n",
    "\"\"\"\n",
    "save_model_path = './image_classification'\n",
    "\n",
    "print('Training...')\n",
    "with tf.Session() as sess:\n",
    "    # Initializing the variables\n",
    "    sess.run(tf.global_variables_initializer())\n",
    "        \n",
    "    # Training cycle\n",
    "    for epoch in range(epochs):\n",
    "        # Loop over all batches\n",
    "        n_batches = 5\n",
    "        for batch_i in range(1, n_batches + 1):\n",
    "            for batch_features, batch_labels in helper.load_preprocess_training_batch(batch_i, batch_size):\n",
    "                train_neural_network(sess, optimizer, keep_probability, batch_features, batch_labels)\n",
    "            print('Epoch {:>2}, CIFAR-10 Batch {}:  '.format(epoch + 1, batch_i), end='')\n",
    "            print_stats(sess, batch_features, batch_labels, cost, accuracy)\n",
    "            \n",
    "    # Save Model\n",
    "    saver = tf.train.Saver()\n",
    "    save_path = saver.save(sess, save_model_path)"
   ]
  },
  {
   "cell_type": "markdown",
   "metadata": {},
   "source": [
    "# Checkpoint\n",
    "The model has been saved to disk.\n",
    "## Test Model\n",
    "Test your model against the test dataset.  This will be your final accuracy. You should have an accuracy greater than 50%. If you don't, keep tweaking the model architecture and parameters."
   ]
  },
  {
   "cell_type": "code",
   "execution_count": 15,
   "metadata": {},
   "outputs": [
    {
     "name": "stdout",
     "output_type": "stream",
     "text": [
      "INFO:tensorflow:Restoring parameters from ./image_classification\n",
      "Testing Accuracy: 0.7037183544303798\n",
      "\n"
     ]
    },
    {
     "data": {
      "image/png": "[encoded data removed]",
      "text/plain": [
       "<matplotlib.figure.Figure at 0x7eff68204b70>"
      ]
     },
     "metadata": {
      "image/png": {
       "height": 319,
       "width": 355
      }
     },
     "output_type": "display_data"
    }
   ],
   "source": [
    "\"\"\"\n",
    "DON'T MODIFY ANYTHING IN THIS CELL\n",
    "\"\"\"\n",
    "%matplotlib inline\n",
    "%config InlineBackend.figure_format = 'retina'\n",
    "\n",
    "import tensorflow as tf\n",
    "import pickle\n",
    "import helper\n",
    "import random\n",
    "\n",
    "# Set batch size if not already set\n",
    "try:\n",
    "    if batch_size:\n",
    "        pass\n",
    "except NameError:\n",
    "    batch_size = 64\n",
    "\n",
    "save_model_path = './image_classification'\n",
    "n_samples = 4\n",
    "top_n_predictions = 3\n",
    "\n",
    "def test_model():\n",
    "    \"\"\"\n",
    "    Test the saved model against the test dataset\n",
    "    \"\"\"\n",
    "\n",
    "    test_features, test_labels = pickle.load(open('preprocess_training.p', mode='rb'))\n",
    "    loaded_graph = tf.Graph()\n",
    "\n",
    "    with tf.Session(graph=loaded_graph) as sess:\n",
    "        # Load model\n",
    "        loader = tf.train.import_meta_graph(save_model_path + '.meta')\n",
    "        loader.restore(sess, save_model_path)\n",
    "\n",
    "        # Get Tensors from loaded model\n",
    "        loaded_x = loaded_graph.get_tensor_by_name('x:0')\n",
    "        loaded_y = loaded_graph.get_tensor_by_name('y:0')\n",
    "        loaded_keep_prob = loaded_graph.get_tensor_by_name('keep_prob:0')\n",
    "        loaded_logits = loaded_graph.get_tensor_by_name('logits:0')\n",
    "        loaded_acc = loaded_graph.get_tensor_by_name('accuracy:0')\n",
    "        \n",
    "        # Get accuracy in batches for memory limitations\n",
    "        test_batch_acc_total = 0\n",
    "        test_batch_count = 0\n",
    "        \n",
    "        for train_feature_batch, train_label_batch in helper.batch_features_labels(test_features, test_labels, batch_size):\n",
    "            test_batch_acc_total += sess.run(\n",
    "                loaded_acc,\n",
    "                feed_dict={loaded_x: train_feature_batch, loaded_y: train_label_batch, loaded_keep_prob: 1.0})\n",
    "            test_batch_count += 1\n",
    "\n",
    "        print('Testing Accuracy: {}\\n'.format(test_batch_acc_total/test_batch_count))\n",
    "\n",
    "        # Print Random Samples\n",
    "        random_test_features, random_test_labels = tuple(zip(*random.sample(list(zip(test_features, test_labels)), n_samples)))\n",
    "        random_test_predictions = sess.run(\n",
    "            tf.nn.top_k(tf.nn.softmax(loaded_logits), top_n_predictions),\n",
    "            feed_dict={loaded_x: random_test_features, loaded_y: random_test_labels, loaded_keep_prob: 1.0})\n",
    "        helper.display_image_predictions(random_test_features, random_test_labels, random_test_predictions)\n",
    "\n",
    "\n",
    "test_model()"
   ]
  },
  {
   "cell_type": "markdown",
   "metadata": {},
   "source": [
    "## Why 50-80% Accuracy?\n",
    "You might be wondering why you can't get an accuracy any higher. First things first, 50% isn't bad for a simple CNN.  Pure guessing would get you 10% accuracy. That's because there are many more techniques that can be applied to your model and we recemmond that once you are done with this project, you explore!\n",
    "\n",
    "## Submitting This Project\n",
    "When submitting this project, make sure to run all the cells before saving the notebook.  Save the notebook file as \"image_classification.ipynb\" and save it as a HTML file under \"File\" -> \"Download as\".  Include the \"helper.py\" and \"problem_unittests.py\" files in your submission."
   ]
  }
 ],
 "metadata": {
  "kernelspec": {
   "display_name": "Python 3",
   "language": "python",
   "name": "python3"
  },
  "language_info": {
   "codemirror_mode": {
    "name": "ipython",
    "version": 3
   },
   "file_extension": ".py",
   "mimetype": "text/x-python",
   "name": "python",
   "nbconvert_exporter": "python",
   "pygments_lexer": "ipython3",
   "version": "3.5.2"
  }
 },
 "nbformat": 4,
 "nbformat_minor": 1
}
