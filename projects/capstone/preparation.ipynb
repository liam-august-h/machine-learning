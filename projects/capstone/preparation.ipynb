{
 "cells": [
  {
   "cell_type": "markdown",
   "metadata": {},
   "source": [
    "# For Mercari Price Suggestion Challenge"
   ]
  },
  {
   "cell_type": "code",
   "execution_count": 116,
   "metadata": {},
   "outputs": [],
   "source": [
    "%matplotlib inline"
   ]
  },
  {
   "cell_type": "code",
   "execution_count": 132,
   "metadata": {},
   "outputs": [],
   "source": [
    "import matplotlib.pyplot as plt\n",
    "import numpy as np\n",
    "import pandas as pd\n",
    "import scipy as sp\n",
    "from scipy import stats, integrate\n",
    "import seaborn as sns"
   ]
  },
  {
   "cell_type": "code",
   "execution_count": 118,
   "metadata": {},
   "outputs": [],
   "source": [
    "sns.set(color_codes=True)"
   ]
  },
  {
   "cell_type": "markdown",
   "metadata": {},
   "source": [
    "## Data exploration"
   ]
  },
  {
   "cell_type": "code",
   "execution_count": 13,
   "metadata": {},
   "outputs": [],
   "source": [
    "train_data = pd.read_csv(\"./data/train.tsv\", sep='\\t')\n",
    "test_data = pd.read_csv(\"./data/test.tsv\", sep='\\t')"
   ]
  },
  {
   "cell_type": "code",
   "execution_count": 23,
   "metadata": {},
   "outputs": [
    {
     "name": "stdout",
     "output_type": "stream",
     "text": [
      "there are 1482535 rows in train_data and each row has 8 columns\n",
      "there are 693359 rows in test_data and each row has 7 columns\n"
     ]
    }
   ],
   "source": [
    "print(\"there are {} rows in train_data and each row has {} columns\".format(\n",
    "    train_data.shape[0], train_data.shape[1]))\n",
    "print(\"there are {} rows in test_data and each row has {} columns\".format(\n",
    "    test_data.shape[0], test_data.shape[1]))"
   ]
  },
  {
   "cell_type": "code",
   "execution_count": 50,
   "metadata": {},
   "outputs": [
    {
     "name": "stdout",
     "output_type": "stream",
     "text": [
      "- train_data columns and their types: \n",
      "train_id               int64\n",
      "name                  object\n",
      "item_condition_id      int64\n",
      "category_name         object\n",
      "brand_name            object\n",
      "price                float64\n",
      "shipping               int64\n",
      "item_description      object\n",
      "dtype: object\n",
      "- test_data columns and their types: \n",
      "test_id               int64\n",
      "name                 object\n",
      "item_condition_id     int64\n",
      "category_name        object\n",
      "brand_name           object\n",
      "shipping              int64\n",
      "item_description     object\n",
      "dtype: object\n"
     ]
    }
   ],
   "source": [
    "print(\"- train_data columns and their types: \")\n",
    "print(train_data.dtypes)\n",
    "\n",
    "print(\"- test_data columns and their types: \")\n",
    "print(test_data.dtypes)"
   ]
  },
  {
   "cell_type": "code",
   "execution_count": 83,
   "metadata": {},
   "outputs": [
    {
     "data": {
      "text/html": [
       "<div>\n",
       "<style scoped>\n",
       "    .dataframe tbody tr th:only-of-type {\n",
       "        vertical-align: middle;\n",
       "    }\n",
       "\n",
       "    .dataframe tbody tr th {\n",
       "        vertical-align: top;\n",
       "    }\n",
       "\n",
       "    .dataframe thead th {\n",
       "        text-align: right;\n",
       "    }\n",
       "</style>\n",
       "<table border=\"1\" class=\"dataframe\">\n",
       "  <thead>\n",
       "    <tr style=\"text-align: right;\">\n",
       "      <th></th>\n",
       "      <th>train_id</th>\n",
       "      <th>name</th>\n",
       "      <th>item_condition_id</th>\n",
       "      <th>category_name</th>\n",
       "      <th>brand_name</th>\n",
       "      <th>price</th>\n",
       "      <th>shipping</th>\n",
       "      <th>item_description</th>\n",
       "    </tr>\n",
       "  </thead>\n",
       "  <tbody>\n",
       "    <tr>\n",
       "      <th>873970</th>\n",
       "      <td>873970</td>\n",
       "      <td>18 inch doll sleeping bag</td>\n",
       "      <td>2</td>\n",
       "      <td>Kids/Toys/Dolls &amp; Accessories</td>\n",
       "      <td>NaN</td>\n",
       "      <td>12.0</td>\n",
       "      <td>0</td>\n",
       "      <td>18 inch American girl doll size sleeping bag. ...</td>\n",
       "    </tr>\n",
       "    <tr>\n",
       "      <th>1025596</th>\n",
       "      <td>1025596</td>\n",
       "      <td>Milani AMORE MATTE bundle NEW W/LINERS</td>\n",
       "      <td>1</td>\n",
       "      <td>Beauty/Makeup/Lips</td>\n",
       "      <td>Milani</td>\n",
       "      <td>86.0</td>\n",
       "      <td>1</td>\n",
       "      <td>MILANI AMORE MATTE LIP CREME BUNDLE -9 MILANI ...</td>\n",
       "    </tr>\n",
       "    <tr>\n",
       "      <th>538092</th>\n",
       "      <td>538092</td>\n",
       "      <td>1 black beauty blending sponge</td>\n",
       "      <td>1</td>\n",
       "      <td>Beauty/Tools &amp; Accessories/Makeup Brushes &amp; Tools</td>\n",
       "      <td>NaN</td>\n",
       "      <td>5.0</td>\n",
       "      <td>1</td>\n",
       "      <td>Brand new beauty blending sponges available I ...</td>\n",
       "    </tr>\n",
       "  </tbody>\n",
       "</table>\n",
       "</div>"
      ],
      "text/plain": [
       "         train_id                                    name item_condition_id  \\\n",
       "873970     873970               18 inch doll sleeping bag                 2   \n",
       "1025596   1025596  Milani AMORE MATTE bundle NEW W/LINERS                 1   \n",
       "538092     538092          1 black beauty blending sponge                 1   \n",
       "\n",
       "                                             category_name brand_name  price  \\\n",
       "873970                       Kids/Toys/Dolls & Accessories        NaN   12.0   \n",
       "1025596                                 Beauty/Makeup/Lips     Milani   86.0   \n",
       "538092   Beauty/Tools & Accessories/Makeup Brushes & Tools        NaN    5.0   \n",
       "\n",
       "        shipping                                   item_description  \n",
       "873970         0  18 inch American girl doll size sleeping bag. ...  \n",
       "1025596        1  MILANI AMORE MATTE LIP CREME BUNDLE -9 MILANI ...  \n",
       "538092         1  Brand new beauty blending sponges available I ...  "
      ]
     },
     "execution_count": 83,
     "metadata": {},
     "output_type": "execute_result"
    }
   ],
   "source": [
    "train_data.sample(n=3)"
   ]
  },
  {
   "cell_type": "code",
   "execution_count": 84,
   "metadata": {},
   "outputs": [
    {
     "data": {
      "text/html": [
       "<div>\n",
       "<style scoped>\n",
       "    .dataframe tbody tr th:only-of-type {\n",
       "        vertical-align: middle;\n",
       "    }\n",
       "\n",
       "    .dataframe tbody tr th {\n",
       "        vertical-align: top;\n",
       "    }\n",
       "\n",
       "    .dataframe thead th {\n",
       "        text-align: right;\n",
       "    }\n",
       "</style>\n",
       "<table border=\"1\" class=\"dataframe\">\n",
       "  <thead>\n",
       "    <tr style=\"text-align: right;\">\n",
       "      <th></th>\n",
       "      <th>test_id</th>\n",
       "      <th>name</th>\n",
       "      <th>item_condition_id</th>\n",
       "      <th>category_name</th>\n",
       "      <th>brand_name</th>\n",
       "      <th>shipping</th>\n",
       "      <th>item_description</th>\n",
       "    </tr>\n",
       "  </thead>\n",
       "  <tbody>\n",
       "    <tr>\n",
       "      <th>240829</th>\n",
       "      <td>240829</td>\n",
       "      <td>Gucci Belt</td>\n",
       "      <td>1</td>\n",
       "      <td>Men/Men's Accessories/Belts</td>\n",
       "      <td>Gucci</td>\n",
       "      <td>1</td>\n",
       "      <td>Gucci Guaranteee Authentic Mens Belt Coated Gr...</td>\n",
       "    </tr>\n",
       "    <tr>\n",
       "      <th>558894</th>\n",
       "      <td>558894</td>\n",
       "      <td>Rae Dunn TEA &amp; COFFEE Canisters</td>\n",
       "      <td>1</td>\n",
       "      <td>Home/Kitchen &amp; Dining/Coffee &amp; Tea Accessories</td>\n",
       "      <td>NaN</td>\n",
       "      <td>0</td>\n",
       "      <td>Tea Canister</td>\n",
       "    </tr>\n",
       "    <tr>\n",
       "      <th>305849</th>\n",
       "      <td>305849</td>\n",
       "      <td>Wizard of Oz book cover locket necklace</td>\n",
       "      <td>1</td>\n",
       "      <td>Women/Jewelry/Necklaces</td>\n",
       "      <td>NaN</td>\n",
       "      <td>1</td>\n",
       "      <td>This is an adorable necklace. Book charm opens...</td>\n",
       "    </tr>\n",
       "  </tbody>\n",
       "</table>\n",
       "</div>"
      ],
      "text/plain": [
       "        test_id                                     name  item_condition_id  \\\n",
       "240829   240829                               Gucci Belt                  1   \n",
       "558894   558894          Rae Dunn TEA & COFFEE Canisters                  1   \n",
       "305849   305849  Wizard of Oz book cover locket necklace                  1   \n",
       "\n",
       "                                         category_name brand_name  shipping  \\\n",
       "240829                     Men/Men's Accessories/Belts      Gucci         1   \n",
       "558894  Home/Kitchen & Dining/Coffee & Tea Accessories        NaN         0   \n",
       "305849                         Women/Jewelry/Necklaces        NaN         1   \n",
       "\n",
       "                                         item_description  \n",
       "240829  Gucci Guaranteee Authentic Mens Belt Coated Gr...  \n",
       "558894                                       Tea Canister  \n",
       "305849  This is an adorable necklace. Book charm opens...  "
      ]
     },
     "execution_count": 84,
     "metadata": {},
     "output_type": "execute_result"
    }
   ],
   "source": [
    "test_data.sample(n=3)"
   ]
  },
  {
   "cell_type": "markdown",
   "metadata": {},
   "source": [
    "*test_id* and *train_id* could be ignored. *item_condition_id* and *shipping* are actually category data. *name*, *category_name*, *brand_name* and *item_description* are text data.\n",
    "Since *price* is the only continuous data and it is the output, seems there is no need to check distribution and normalize data."
   ]
  },
  {
   "cell_type": "markdown",
   "metadata": {},
   "source": [
    "create a subset of train_data and test_data to explore"
   ]
  },
  {
   "cell_type": "code",
   "execution_count": 149,
   "metadata": {},
   "outputs": [],
   "source": [
    "sub_train_data = train_data.sample(1000)\n",
    "sub_test_data = test_data.sample(1000)"
   ]
  },
  {
   "cell_type": "markdown",
   "metadata": {},
   "source": [
    "## Data Processing"
   ]
  },
  {
   "cell_type": "markdown",
   "metadata": {},
   "source": [
    "### Drop *Train_id*"
   ]
  },
  {
   "cell_type": "code",
   "execution_count": 100,
   "metadata": {},
   "outputs": [],
   "source": [
    "train_data.drop(columns = ['train_id']);"
   ]
  },
  {
   "cell_type": "markdown",
   "metadata": {},
   "source": [
    "### category *item_condition_id* and *shipping*"
   ]
  },
  {
   "cell_type": "code",
   "execution_count": 78,
   "metadata": {},
   "outputs": [
    {
     "name": "stdout",
     "output_type": "stream",
     "text": [
      "<class 'pandas.core.series.Series'>\n"
     ]
    },
    {
     "data": {
      "text/plain": [
       "Int64Index([1, 2, 3, 4, 5], dtype='int64')"
      ]
     },
     "execution_count": 78,
     "metadata": {},
     "output_type": "execute_result"
    }
   ],
   "source": [
    "train_data['item_condition_id'] = train_data['item_condition_id'].astype('category')\n",
    "print(type(train_data['item_condition_id']))\n",
    "train_data.item_condition_id.cat.categories"
   ]
  },
  {
   "cell_type": "code",
   "execution_count": 79,
   "metadata": {},
   "outputs": [
    {
     "name": "stdout",
     "output_type": "stream",
     "text": [
      "<class 'pandas.core.series.Series'>\n"
     ]
    },
    {
     "data": {
      "text/plain": [
       "Int64Index([0, 1], dtype='int64')"
      ]
     },
     "execution_count": 79,
     "metadata": {},
     "output_type": "execute_result"
    }
   ],
   "source": [
    "train_data['shipping'] = train_data['shipping'].astype('category')\n",
    "print(type(train_data['shipping']))\n",
    "train_data.shipping.cat.categories"
   ]
  },
  {
   "cell_type": "code",
   "execution_count": 108,
   "metadata": {},
   "outputs": [
    {
     "name": "stdout",
     "output_type": "stream",
     "text": [
      "there are 0 items missing in item_condition_id\n"
     ]
    }
   ],
   "source": [
    "print(\"there are \" + str(pd.isna(train_data['item_condition_id']).sum())\n",
    "      + \" items missing in item_condition_id\")"
   ]
  },
  {
   "cell_type": "code",
   "execution_count": 109,
   "metadata": {},
   "outputs": [
    {
     "name": "stdout",
     "output_type": "stream",
     "text": [
      "there are 0 items missing in shipping\n"
     ]
    }
   ],
   "source": [
    "print(\"there are \" + str(pd.isna(train_data['shipping']).sum())\n",
    "      + \" items missing in shipping\")"
   ]
  },
  {
   "cell_type": "code",
   "execution_count": 97,
   "metadata": {},
   "outputs": [
    {
     "data": {
      "text/plain": [
       "train_id                int64\n",
       "name                   object\n",
       "item_condition_id    category\n",
       "category_name          object\n",
       "brand_name             object\n",
       "price                 float64\n",
       "shipping             category\n",
       "item_description       object\n",
       "dtype: object"
      ]
     },
     "execution_count": 97,
     "metadata": {},
     "output_type": "execute_result"
    }
   ],
   "source": [
    "train_data.dtypes"
   ]
  },
  {
   "cell_type": "markdown",
   "metadata": {},
   "source": [
    "##### distribution"
   ]
  },
  {
   "cell_type": "code",
   "execution_count": 123,
   "metadata": {},
   "outputs": [
    {
     "data": {
      "text/plain": [
       "<matplotlib.axes._subplots.AxesSubplot at 0x1efc21860>"
      ]
     },
     "execution_count": 123,
     "metadata": {},
     "output_type": "execute_result"
    },
    {
     "data": {
      "image/png": "[encoded data removed]",
      "text/plain": [
       "<matplotlib.figure.Figure at 0x1efc29a90>"
      ]
     },
     "metadata": {},
     "output_type": "display_data"
    }
   ],
   "source": [
    "sns.distplot(sub_train_data['price'])"
   ]
  },
  {
   "cell_type": "code",
   "execution_count": 129,
   "metadata": {},
   "outputs": [
    {
     "data": {
      "text/plain": [
       "count    1.482535e+06\n",
       "mean     2.673752e+01\n",
       "std      3.858607e+01\n",
       "min      0.000000e+00\n",
       "25%      1.000000e+01\n",
       "50%      1.700000e+01\n",
       "75%      2.900000e+01\n",
       "max      2.009000e+03\n",
       "Name: price, dtype: float64"
      ]
     },
     "execution_count": 129,
     "metadata": {},
     "output_type": "execute_result"
    }
   ],
   "source": [
    "train_data['price'].describe()"
   ]
  },
  {
   "cell_type": "code",
   "execution_count": 130,
   "metadata": {},
   "outputs": [
    {
     "data": {
      "text/plain": [
       "<matplotlib.axes._subplots.AxesSubplot at 0x199e648d0>"
      ]
     },
     "execution_count": 130,
     "metadata": {},
     "output_type": "execute_result"
    },
    {
     "data": {
      "image/png": "[encoded data removed]",
      "text/plain": [
       "<matplotlib.figure.Figure at 0x199f0e2e8>"
      ]
     },
     "metadata": {},
     "output_type": "display_data"
    }
   ],
   "source": [
    "sns.boxplot(x=sub_train_data['price'])"
   ]
  },
  {
   "cell_type": "markdown",
   "metadata": {},
   "source": [
    "Apply IQR to *price* and pick up all outlier items"
   ]
  },
  {
   "cell_type": "code",
   "execution_count": 141,
   "metadata": {},
   "outputs": [],
   "source": [
    "def IQR(x):\n",
    "    q1, q3 = np.percentile(x, [25, 75])\n",
    "    iqr = q3 - q1\n",
    "    outlier_higher = q3 + 1.5 * iqr\n",
    "    outlier_lower = q1 - 1.5 * iqr\n",
    "    return outlier_lower, outlier_higher"
   ]
  },
  {
   "cell_type": "code",
   "execution_count": 154,
   "metadata": {},
   "outputs": [
    {
     "name": "stdout",
     "output_type": "stream",
     "text": [
      "according to IQR, price oultier line is -17.5 and 58.5\n",
      "<class 'pandas.core.frame.DataFrame'>\n",
      "there are 93 outlier in 1000 sub_train_data\n"
     ]
    }
   ],
   "source": [
    "outlier_lower, outlier_higher = IQR(sub_train_data['price'])\n",
    "print(\"according to IQR, price oultier line is {} and {}\".format(\n",
    "    outlier_lower, outlier_higher))\n",
    "outlier_sub_train_data = sub_train_data[sub_train_data['price'] > outlier_higher]\n",
    "print(\"there are {} outlier in {} sub_train_data\".format(\n",
    "    outlier_sub_train_data.shape[0], sub_train_data.shape[0]))"
   ]
  },
  {
   "cell_type": "code",
   "execution_count": 155,
   "metadata": {},
   "outputs": [
    {
     "name": "stdout",
     "output_type": "stream",
     "text": [
      "according to IQR, price oultier line is -18.5 and 57.5\n",
      "there are 119352 outlier in 1482535 train_data\n"
     ]
    }
   ],
   "source": [
    "outlier_lower, outlier_higher = IQR(train_data['price'])\n",
    "print(\"according to IQR, price oultier line is {} and {}\".format(\n",
    "    outlier_lower, outlier_higher))\n",
    "outlier_train_data = train_data[train_data['price'] > outlier_higher]\n",
    "print(\"there are {} outlier in {} train_data\".format(\n",
    "    outlier_train_data.shape[0], train_data.shape[0]))"
   ]
  },
  {
   "cell_type": "code",
   "execution_count": 159,
   "metadata": {},
   "outputs": [
    {
     "data": {
      "text/html": [
       "<div>\n",
       "<style scoped>\n",
       "    .dataframe tbody tr th:only-of-type {\n",
       "        vertical-align: middle;\n",
       "    }\n",
       "\n",
       "    .dataframe tbody tr th {\n",
       "        vertical-align: top;\n",
       "    }\n",
       "\n",
       "    .dataframe thead th {\n",
       "        text-align: right;\n",
       "    }\n",
       "</style>\n",
       "<table border=\"1\" class=\"dataframe\">\n",
       "  <thead>\n",
       "    <tr style=\"text-align: right;\">\n",
       "      <th></th>\n",
       "      <th>train_id</th>\n",
       "      <th>name</th>\n",
       "      <th>item_condition_id</th>\n",
       "      <th>category_name</th>\n",
       "      <th>brand_name</th>\n",
       "      <th>price</th>\n",
       "      <th>shipping</th>\n",
       "      <th>item_description</th>\n",
       "    </tr>\n",
       "  </thead>\n",
       "  <tbody>\n",
       "    <tr>\n",
       "      <th>1266847</th>\n",
       "      <td>1266847</td>\n",
       "      <td>kobe 8 bhm size 8.5</td>\n",
       "      <td>2</td>\n",
       "      <td>men/shoes/athletic</td>\n",
       "      <td>nike</td>\n",
       "      <td>95.0</td>\n",
       "      <td>1</td>\n",
       "      <td>9/10 vnds. 100% authentic. comes with og box.</td>\n",
       "    </tr>\n",
       "    <tr>\n",
       "      <th>552271</th>\n",
       "      <td>552271</td>\n",
       "      <td>women's size 32 regular rock revivals</td>\n",
       "      <td>3</td>\n",
       "      <td>women/jeans/boot cut</td>\n",
       "      <td>rock revival</td>\n",
       "      <td>86.0</td>\n",
       "      <td>0</td>\n",
       "      <td>all rhinestones in tact some wear on bottom bu...</td>\n",
       "    </tr>\n",
       "    <tr>\n",
       "      <th>184016</th>\n",
       "      <td>184016</td>\n",
       "      <td>ray-ban clubmaster</td>\n",
       "      <td>3</td>\n",
       "      <td>women/women's accessories/sunglasses</td>\n",
       "      <td>ray-ban</td>\n",
       "      <td>64.0</td>\n",
       "      <td>0</td>\n",
       "      <td>authentic sunglasses with 2 small scratches on...</td>\n",
       "    </tr>\n",
       "    <tr>\n",
       "      <th>937798</th>\n",
       "      <td>937798</td>\n",
       "      <td>iphone 6 16 gb black t-mobile</td>\n",
       "      <td>3</td>\n",
       "      <td>electronics/cell phones &amp; accessories/cell pho...</td>\n",
       "      <td>apple</td>\n",
       "      <td>174.0</td>\n",
       "      <td>0</td>\n",
       "      <td>body has very small damage. minor knicks aroun...</td>\n",
       "    </tr>\n",
       "    <tr>\n",
       "      <th>569176</th>\n",
       "      <td>569176</td>\n",
       "      <td>lularoe fall woven print carly small</td>\n",
       "      <td>1</td>\n",
       "      <td>women/dresses/asymmetrical hem</td>\n",
       "      <td>NaN</td>\n",
       "      <td>116.0</td>\n",
       "      <td>0</td>\n",
       "      <td>brand new with tags. lularoe carly unicorn pri...</td>\n",
       "    </tr>\n",
       "    <tr>\n",
       "      <th>1132606</th>\n",
       "      <td>1132606</td>\n",
       "      <td>beats solo 2 wireless headphones</td>\n",
       "      <td>2</td>\n",
       "      <td>electronics/tv, audio &amp; surveillance/headphones</td>\n",
       "      <td>beats</td>\n",
       "      <td>121.0</td>\n",
       "      <td>0</td>\n",
       "      <td>they are rose gold! i bought these like a few ...</td>\n",
       "    </tr>\n",
       "    <tr>\n",
       "      <th>1405479</th>\n",
       "      <td>1405479</td>\n",
       "      <td>asst. disney frozen outfits girls 4/5/6</td>\n",
       "      <td>3</td>\n",
       "      <td>kids/girls (4+)/tops &amp; t-shirts</td>\n",
       "      <td>disney</td>\n",
       "      <td>73.0</td>\n",
       "      <td>0</td>\n",
       "      <td>several bundles of clothes as pictured..ignore...</td>\n",
       "    </tr>\n",
       "    <tr>\n",
       "      <th>556990</th>\n",
       "      <td>556990</td>\n",
       "      <td>rae dunn new mixing bowls</td>\n",
       "      <td>1</td>\n",
       "      <td>home/kitchen &amp; dining/dining &amp; entertaining</td>\n",
       "      <td>rae dunn</td>\n",
       "      <td>110.0</td>\n",
       "      <td>0</td>\n",
       "      <td>no description yet</td>\n",
       "    </tr>\n",
       "    <tr>\n",
       "      <th>1162101</th>\n",
       "      <td>1162101</td>\n",
       "      <td>ipod touch 5th generation</td>\n",
       "      <td>3</td>\n",
       "      <td>electronics/cell phones &amp; accessories/cell pho...</td>\n",
       "      <td>apple</td>\n",
       "      <td>86.0</td>\n",
       "      <td>0</td>\n",
       "      <td>16gb ipod touch 5th generation. have had for 2...</td>\n",
       "    </tr>\n",
       "    <tr>\n",
       "      <th>212707</th>\n",
       "      <td>212707</td>\n",
       "      <td>james avery</td>\n",
       "      <td>3</td>\n",
       "      <td>women/jewelry/earrings</td>\n",
       "      <td>james avery</td>\n",
       "      <td>99.0</td>\n",
       "      <td>0</td>\n",
       "      <td>earrings, no backs two charms</td>\n",
       "    </tr>\n",
       "  </tbody>\n",
       "</table>\n",
       "</div>"
      ],
      "text/plain": [
       "         train_id                                     name item_condition_id  \\\n",
       "1266847   1266847                      kobe 8 bhm size 8.5                 2   \n",
       "552271     552271    women's size 32 regular rock revivals                 3   \n",
       "184016     184016                       ray-ban clubmaster                 3   \n",
       "937798     937798            iphone 6 16 gb black t-mobile                 3   \n",
       "569176     569176     lularoe fall woven print carly small                 1   \n",
       "1132606   1132606         beats solo 2 wireless headphones                 2   \n",
       "1405479   1405479  asst. disney frozen outfits girls 4/5/6                 3   \n",
       "556990     556990                rae dunn new mixing bowls                 1   \n",
       "1162101   1162101                ipod touch 5th generation                 3   \n",
       "212707     212707                              james avery                 3   \n",
       "\n",
       "                                             category_name    brand_name  \\\n",
       "1266847                                 men/shoes/athletic          nike   \n",
       "552271                                women/jeans/boot cut  rock revival   \n",
       "184016                women/women's accessories/sunglasses       ray-ban   \n",
       "937798   electronics/cell phones & accessories/cell pho...         apple   \n",
       "569176                      women/dresses/asymmetrical hem           NaN   \n",
       "1132606    electronics/tv, audio & surveillance/headphones         beats   \n",
       "1405479                    kids/girls (4+)/tops & t-shirts        disney   \n",
       "556990         home/kitchen & dining/dining & entertaining      rae dunn   \n",
       "1162101  electronics/cell phones & accessories/cell pho...         apple   \n",
       "212707                              women/jewelry/earrings   james avery   \n",
       "\n",
       "         price shipping                                   item_description  \n",
       "1266847   95.0        1      9/10 vnds. 100% authentic. comes with og box.  \n",
       "552271    86.0        0  all rhinestones in tact some wear on bottom bu...  \n",
       "184016    64.0        0  authentic sunglasses with 2 small scratches on...  \n",
       "937798   174.0        0  body has very small damage. minor knicks aroun...  \n",
       "569176   116.0        0  brand new with tags. lularoe carly unicorn pri...  \n",
       "1132606  121.0        0  they are rose gold! i bought these like a few ...  \n",
       "1405479   73.0        0  several bundles of clothes as pictured..ignore...  \n",
       "556990   110.0        0                                 no description yet  \n",
       "1162101   86.0        0  16gb ipod touch 5th generation. have had for 2...  \n",
       "212707    99.0        0                      earrings, no backs two charms  "
      ]
     },
     "execution_count": 159,
     "metadata": {},
     "output_type": "execute_result"
    }
   ],
   "source": [
    "outlier_sub_train_data.sample(10)"
   ]
  },
  {
   "cell_type": "code",
   "execution_count": 157,
   "metadata": {},
   "outputs": [
    {
     "data": {
      "text/plain": [
       "<matplotlib.axes._subplots.AxesSubplot at 0x1ef721c18>"
      ]
     },
     "execution_count": 157,
     "metadata": {},
     "output_type": "execute_result"
    },
    {
     "data": {
      "image/png": "[encoded data removed]",
      "text/plain": [
       "<matplotlib.figure.Figure at 0x1ef73a400>"
      ]
     },
     "metadata": {},
     "output_type": "display_data"
    }
   ],
   "source": [
    "sns.stripplot(x=\"item_condition_id\", y='price', data=sub_train_data)"
   ]
  },
  {
   "cell_type": "markdown",
   "metadata": {},
   "source": [
    "### process text data"
   ]
  },
  {
   "cell_type": "markdown",
   "metadata": {},
   "source": [
    "#### lowercase"
   ]
  },
  {
   "cell_type": "code",
   "execution_count": 106,
   "metadata": {},
   "outputs": [],
   "source": [
    "train_data['name'] = train_data['name'].str.lower();\n",
    "train_data['category_name'] = train_data['category_name'].str.lower();\n",
    "train_data['brand_name'] = train_data['brand_name'].str.lower();\n",
    "train_data['item_description'] = train_data['item_description'].str.lower();"
   ]
  },
  {
   "cell_type": "code",
   "execution_count": 107,
   "metadata": {},
   "outputs": [
    {
     "data": {
      "text/html": [
       "<div>\n",
       "<style scoped>\n",
       "    .dataframe tbody tr th:only-of-type {\n",
       "        vertical-align: middle;\n",
       "    }\n",
       "\n",
       "    .dataframe tbody tr th {\n",
       "        vertical-align: top;\n",
       "    }\n",
       "\n",
       "    .dataframe thead th {\n",
       "        text-align: right;\n",
       "    }\n",
       "</style>\n",
       "<table border=\"1\" class=\"dataframe\">\n",
       "  <thead>\n",
       "    <tr style=\"text-align: right;\">\n",
       "      <th></th>\n",
       "      <th>train_id</th>\n",
       "      <th>name</th>\n",
       "      <th>item_condition_id</th>\n",
       "      <th>category_name</th>\n",
       "      <th>brand_name</th>\n",
       "      <th>price</th>\n",
       "      <th>shipping</th>\n",
       "      <th>item_description</th>\n",
       "    </tr>\n",
       "  </thead>\n",
       "  <tbody>\n",
       "    <tr>\n",
       "      <th>1042670</th>\n",
       "      <td>1042670</td>\n",
       "      <td>5 james patterson book bundle hard cover</td>\n",
       "      <td>3</td>\n",
       "      <td>other/books/literature &amp; fiction</td>\n",
       "      <td>NaN</td>\n",
       "      <td>16.0</td>\n",
       "      <td>0</td>\n",
       "      <td>all in great condition, price includes all 5bo...</td>\n",
       "    </tr>\n",
       "    <tr>\n",
       "      <th>136507</th>\n",
       "      <td>136507</td>\n",
       "      <td>lilly pulitzer fan sea pants towel set</td>\n",
       "      <td>1</td>\n",
       "      <td>home/home décor/home décor accents</td>\n",
       "      <td>NaN</td>\n",
       "      <td>24.0</td>\n",
       "      <td>0</td>\n",
       "      <td>set of 2 brand new 16x19\" kitchen or bath hand...</td>\n",
       "    </tr>\n",
       "    <tr>\n",
       "      <th>1394272</th>\n",
       "      <td>1394272</td>\n",
       "      <td>rock revival jean's</td>\n",
       "      <td>3</td>\n",
       "      <td>women/jeans/boot cut</td>\n",
       "      <td>rock revival</td>\n",
       "      <td>28.0</td>\n",
       "      <td>0</td>\n",
       "      <td>inseam 29 worn a couple times.</td>\n",
       "    </tr>\n",
       "    <tr>\n",
       "      <th>1188349</th>\n",
       "      <td>1188349</td>\n",
       "      <td>brandnew original samsung charger set</td>\n",
       "      <td>1</td>\n",
       "      <td>electronics/cell phones &amp; accessories/cell pho...</td>\n",
       "      <td>NaN</td>\n",
       "      <td>12.0</td>\n",
       "      <td>1</td>\n",
       "      <td>dear customer, i try my best to make my custom...</td>\n",
       "    </tr>\n",
       "    <tr>\n",
       "      <th>531591</th>\n",
       "      <td>531591</td>\n",
       "      <td>black mini teardrop makeup blender</td>\n",
       "      <td>1</td>\n",
       "      <td>beauty/tools &amp; accessories/makeup brushes &amp; tools</td>\n",
       "      <td>NaN</td>\n",
       "      <td>5.0</td>\n",
       "      <td>1</td>\n",
       "      <td>brand new in package black mini teardrop beaut...</td>\n",
       "    </tr>\n",
       "  </tbody>\n",
       "</table>\n",
       "</div>"
      ],
      "text/plain": [
       "         train_id                                      name item_condition_id  \\\n",
       "1042670   1042670  5 james patterson book bundle hard cover                 3   \n",
       "136507     136507    lilly pulitzer fan sea pants towel set                 1   \n",
       "1394272   1394272                       rock revival jean's                 3   \n",
       "1188349   1188349     brandnew original samsung charger set                 1   \n",
       "531591     531591        black mini teardrop makeup blender                 1   \n",
       "\n",
       "                                             category_name    brand_name  \\\n",
       "1042670                   other/books/literature & fiction           NaN   \n",
       "136507                  home/home décor/home décor accents           NaN   \n",
       "1394272                               women/jeans/boot cut  rock revival   \n",
       "1188349  electronics/cell phones & accessories/cell pho...           NaN   \n",
       "531591   beauty/tools & accessories/makeup brushes & tools           NaN   \n",
       "\n",
       "         price shipping                                   item_description  \n",
       "1042670   16.0        0  all in great condition, price includes all 5bo...  \n",
       "136507    24.0        0  set of 2 brand new 16x19\" kitchen or bath hand...  \n",
       "1394272   28.0        0                     inseam 29 worn a couple times.  \n",
       "1188349   12.0        1  dear customer, i try my best to make my custom...  \n",
       "531591     5.0        1  brand new in package black mini teardrop beaut...  "
      ]
     },
     "execution_count": 107,
     "metadata": {},
     "output_type": "execute_result"
    }
   ],
   "source": [
    "train_data.sample(n=5)"
   ]
  },
  {
   "cell_type": "markdown",
   "metadata": {},
   "source": [
    "#### missing data"
   ]
  },
  {
   "cell_type": "code",
   "execution_count": 114,
   "metadata": {},
   "outputs": [
    {
     "name": "stdout",
     "output_type": "stream",
     "text": [
      "there are 0 items missing in name\n",
      "there are 6327 items missing in category_name\n",
      "there are 632682 items missing in brand_name\n",
      "there are 4 items missing in item_description\n"
     ]
    }
   ],
   "source": [
    "print(\"there are \" + str(pd.isna(train_data['name']).sum())\n",
    "      + \" items missing in name\")\n",
    "print(\"there are \" + str(pd.isna(train_data['category_name']).sum())\n",
    "      + \" items missing in category_name\")\n",
    "print(\"there are \" + str(pd.isna(train_data['brand_name']).sum())\n",
    "      + \" items missing in brand_name\")\n",
    "print(\"there are \" + str(pd.isna(train_data['item_description']).sum())\n",
    "      + \" items missing in item_description\")"
   ]
  },
  {
   "cell_type": "code",
   "execution_count": null,
   "metadata": {},
   "outputs": [],
   "source": []
  }
 ],
 "metadata": {
  "kernelspec": {
   "display_name": "Python 3",
   "language": "python",
   "name": "python3"
  },
  "language_info": {
   "codemirror_mode": {
    "name": "ipython",
    "version": 3
   },
   "file_extension": ".py",
   "mimetype": "text/x-python",
   "name": "python",
   "nbconvert_exporter": "python",
   "pygments_lexer": "ipython3",
   "version": "3.6.3"
  }
 },
 "nbformat": 4,
 "nbformat_minor": 2
}
